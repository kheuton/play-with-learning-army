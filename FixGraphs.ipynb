{
 "cells": [
  {
   "cell_type": "code",
   "execution_count": 6,
   "metadata": {},
   "outputs": [
    {
     "name": "stdout",
     "output_type": "stream",
     "text": [
      "The autoreload extension is already loaded. To reload it, use:\n",
      "  %reload_ext autoreload\n"
     ]
    }
   ],
   "source": [
    "%load_ext autoreload\n",
    "%autoreload 2\n",
    "\n",
    "# add src to path\n",
    "import sys\n",
    "sys.path.append('/cluster/home/kheuto01/code/play-with-learning-army/src')\n",
    "import numpy as np\n",
    "# change directory to this files directory\n",
    "import os\n",
    "os.chdir('/cluster/home/kheuto01/code/play-with-learning-army')\n",
    "from data_loader import load_processed, make_dataset, load_datasets\n",
    "from embedder_registry import initialize_embedding, initialize_criteria_embedding, initialize_combiner\n",
    "from domain_models import initialize_domain_models\n",
    "from loss_opt import initialize_loss, initialize_optimizer\n",
    "import torch\n",
    "import yaml\n",
    "import transformers\n",
    "from sklearn.metrics import accuracy_score, precision_recall_fscore_support, roc_auc_score, average_precision_score\n",
    "from bert_model import MultiDomainMultiCriteriaClassifier\n",
    "from data_loader import load_datasets, create_hf_dataset\n",
    "from preprocessing_registry import bert_preprocessing, bow_preprocessing"
   ]
  },
  {
   "cell_type": "code",
   "execution_count": 7,
   "metadata": {},
   "outputs": [],
   "source": [
    "def bootstrap_metric_across_domains(y_pred, y_true, metric_func, domain_ids):\n",
    "    domain_metrics = {}\n",
    "    unique_domains = np.unique(domain_ids)\n",
    "    print(unique_domains)\n",
    "    for d in unique_domains:\n",
    "        d_idx = np.where(domain_ids == d)[0]\n",
    "        domain_metrics[d] = {}\n",
    "        mean,low,high,domain_metrics[d]['bootstrap_scores'] = bootstrap_metric(y_pred[d_idx], y_true[d_idx], metric_func)\n",
    "        domain_metrics[d]['mean'] = mean\n",
    "        domain_metrics[d]['error'] =(low,high)\n",
    "    return domain_metrics\n",
    "\n",
    "#https://github.com/tufts-ml/SupContrast/blob/tmlr/bootstrap_lin_acc.py\n",
    "def bootstrap_metric(y_pred, y_true, metric_func,\n",
    "                     n_bootstraps=1000, rng_seed=123):\n",
    "    \"\"\"Compute test set boostrapping of a metric\n",
    "    Args:\n",
    "        y_pred (tensor): Model predictions for some output y\n",
    "        y_true (tensor): True value of output y\n",
    "        metric_func (function): function with parameters (y_pred, y_true)\n",
    "                                returning a Tensor castable metric\n",
    "        n_bootstraps (int, optional): Number of bootstrap samples to take.\n",
    "                                      Defaults to 200.\n",
    "        rng_seed (int, optional): Random seed for reproducibility.\n",
    "                                  Defaults to 123.\n",
    "    Returns:\n",
    "        tuple: metric_mean: Tensor with bootstrapped mean of metric\n",
    "               ci_low: Low value from 95% confidence interval\n",
    "               ci_high: High value from 95% confidence interval\n",
    "               b_scores: Bootstrapped metric outputs\n",
    "    \"\"\"\n",
    "    b_scores = None\n",
    "    rng = torch.random.manual_seed(rng_seed)\n",
    "    # bootstrap\n",
    "    for _ in range(n_bootstraps):\n",
    "        sample_idx = torch.randint(y_pred.shape[0], size=(y_pred.shape[0],), generator=rng)\n",
    "        score = torch.Tensor([metric_func(y_pred[sample_idx], y_true[sample_idx])])\n",
    "        # store results from each run along axis 0, with other axes' shape determined by metric\n",
    "        if b_scores is None:\n",
    "            b_scores = score.unsqueeze(0)\n",
    "        else:\n",
    "            b_scores = torch.vstack((b_scores, score))\n",
    "    # compute mean and confidence interval\n",
    "    metric_mean = torch.mean(b_scores, dim=0)\n",
    "    ci_low = torch.quantile(b_scores, 0.025, dim=0)\n",
    "    ci_high = torch.quantile(b_scores, 0.975, dim=0)\n",
    "    return (metric_mean, ci_low, ci_high, b_scores)\n",
    "\n",
    "\n",
    "def bootstrap_dif(b_scores_1, b_scores_2):\n",
    "    \"\"\"Examine the difference of two bootstrapped metrics\n",
    "\n",
    "    Args:\n",
    "        b_scores_1 (Tensor): Bootstrapped metric outputs, with same seed as 2\n",
    "        b_scores_2 (Tensor): Bootstrapped metric outputs, with same seed as 1\n",
    "    Returns:\n",
    "        tensor: True if 95% CI does not contain 0 so result is statistically significant\n",
    "                False if 95% CI contains 0 so result is not statistically significant\n",
    "    \"\"\"\n",
    "    dif_scores = b_scores_1 - b_scores_2\n",
    "    # compute confidence interval of the difference\n",
    "    ci_low = torch.quantile(dif_scores, 0.025, dim=0)\n",
    "    ci_high = torch.quantile(dif_scores, 0.975, dim=0)\n",
    "    return ~torch.logical_and(ci_low <= 0, ci_high >= 0)"
   ]
  },
  {
   "cell_type": "code",
   "execution_count": 8,
   "metadata": {},
   "outputs": [
    {
     "data": {
      "application/vnd.jupyter.widget-view+json": {
       "model_id": "fa2ba371f9674e9ca1f929e730c731e8",
       "version_major": 2,
       "version_minor": 0
      },
      "text/plain": [
       "Map:   0%|          | 0/325 [00:00<?, ? examples/s]"
      ]
     },
     "metadata": {},
     "output_type": "display_data"
    },
    {
     "data": {
      "application/vnd.jupyter.widget-view+json": {
       "model_id": "ef9166fd2f3547cf9e0ee9bee6c04d07",
       "version_major": 2,
       "version_minor": 0
      },
      "text/plain": [
       "Map:   0%|          | 0/60 [00:00<?, ? examples/s]"
      ]
     },
     "metadata": {},
     "output_type": "display_data"
    },
    {
     "name": "stderr",
     "output_type": "stream",
     "text": [
      "/tmp/ipykernel_143400/2590001044.py:82: UserWarning: Creating a tensor from a list of numpy.ndarrays is extremely slow. Please consider converting the list to a single numpy.ndarray with numpy.array() before converting to a tensor. (Triggered internally at /pytorch/torch/csrc/utils/tensor_new.cpp:254.)\n",
      "  all_preds = torch.tensor(all_preds).squeeze()\n"
     ]
    },
    {
     "name": "stdout",
     "output_type": "stream",
     "text": [
      "[0 1 2 3 4 5 6 7]\n"
     ]
    },
    {
     "name": "stderr",
     "output_type": "stream",
     "text": [
      "/cluster/tufts/hugheslab/kheuto01/mambaforge/envs/learningarmy/lib/python3.11/site-packages/sklearn/metrics/_ranking.py:1033: UserWarning: No positive class found in y_true, recall is set to one for all thresholds.\n",
      "  warnings.warn(\n",
      "/cluster/tufts/hugheslab/kheuto01/mambaforge/envs/learningarmy/lib/python3.11/site-packages/sklearn/metrics/_ranking.py:1033: UserWarning: No positive class found in y_true, recall is set to one for all thresholds.\n",
      "  warnings.warn(\n",
      "/cluster/tufts/hugheslab/kheuto01/mambaforge/envs/learningarmy/lib/python3.11/site-packages/sklearn/metrics/_ranking.py:1033: UserWarning: No positive class found in y_true, recall is set to one for all thresholds.\n",
      "  warnings.warn(\n",
      "/cluster/tufts/hugheslab/kheuto01/mambaforge/envs/learningarmy/lib/python3.11/site-packages/sklearn/metrics/_ranking.py:1033: UserWarning: No positive class found in y_true, recall is set to one for all thresholds.\n",
      "  warnings.warn(\n",
      "/cluster/tufts/hugheslab/kheuto01/mambaforge/envs/learningarmy/lib/python3.11/site-packages/sklearn/metrics/_ranking.py:1033: UserWarning: No positive class found in y_true, recall is set to one for all thresholds.\n",
      "  warnings.warn(\n",
      "/cluster/tufts/hugheslab/kheuto01/mambaforge/envs/learningarmy/lib/python3.11/site-packages/sklearn/metrics/_ranking.py:1033: UserWarning: No positive class found in y_true, recall is set to one for all thresholds.\n",
      "  warnings.warn(\n",
      "/cluster/tufts/hugheslab/kheuto01/mambaforge/envs/learningarmy/lib/python3.11/site-packages/sklearn/metrics/_ranking.py:1033: UserWarning: No positive class found in y_true, recall is set to one for all thresholds.\n",
      "  warnings.warn(\n",
      "/cluster/tufts/hugheslab/kheuto01/mambaforge/envs/learningarmy/lib/python3.11/site-packages/sklearn/metrics/_ranking.py:1033: UserWarning: No positive class found in y_true, recall is set to one for all thresholds.\n",
      "  warnings.warn(\n",
      "/cluster/tufts/hugheslab/kheuto01/mambaforge/envs/learningarmy/lib/python3.11/site-packages/sklearn/metrics/_ranking.py:1033: UserWarning: No positive class found in y_true, recall is set to one for all thresholds.\n",
      "  warnings.warn(\n",
      "/cluster/tufts/hugheslab/kheuto01/mambaforge/envs/learningarmy/lib/python3.11/site-packages/sklearn/metrics/_ranking.py:1033: UserWarning: No positive class found in y_true, recall is set to one for all thresholds.\n",
      "  warnings.warn(\n",
      "/cluster/tufts/hugheslab/kheuto01/mambaforge/envs/learningarmy/lib/python3.11/site-packages/sklearn/metrics/_ranking.py:1033: UserWarning: No positive class found in y_true, recall is set to one for all thresholds.\n",
      "  warnings.warn(\n",
      "/cluster/tufts/hugheslab/kheuto01/mambaforge/envs/learningarmy/lib/python3.11/site-packages/sklearn/metrics/_ranking.py:1033: UserWarning: No positive class found in y_true, recall is set to one for all thresholds.\n",
      "  warnings.warn(\n",
      "/cluster/tufts/hugheslab/kheuto01/mambaforge/envs/learningarmy/lib/python3.11/site-packages/sklearn/metrics/_ranking.py:1033: UserWarning: No positive class found in y_true, recall is set to one for all thresholds.\n",
      "  warnings.warn(\n",
      "/cluster/tufts/hugheslab/kheuto01/mambaforge/envs/learningarmy/lib/python3.11/site-packages/sklearn/metrics/_ranking.py:1033: UserWarning: No positive class found in y_true, recall is set to one for all thresholds.\n",
      "  warnings.warn(\n",
      "/cluster/tufts/hugheslab/kheuto01/mambaforge/envs/learningarmy/lib/python3.11/site-packages/sklearn/metrics/_ranking.py:1033: UserWarning: No positive class found in y_true, recall is set to one for all thresholds.\n",
      "  warnings.warn(\n",
      "/cluster/tufts/hugheslab/kheuto01/mambaforge/envs/learningarmy/lib/python3.11/site-packages/sklearn/metrics/_ranking.py:1033: UserWarning: No positive class found in y_true, recall is set to one for all thresholds.\n",
      "  warnings.warn(\n",
      "/cluster/tufts/hugheslab/kheuto01/mambaforge/envs/learningarmy/lib/python3.11/site-packages/sklearn/metrics/_ranking.py:1033: UserWarning: No positive class found in y_true, recall is set to one for all thresholds.\n",
      "  warnings.warn(\n",
      "/cluster/tufts/hugheslab/kheuto01/mambaforge/envs/learningarmy/lib/python3.11/site-packages/sklearn/metrics/_ranking.py:1033: UserWarning: No positive class found in y_true, recall is set to one for all thresholds.\n",
      "  warnings.warn(\n",
      "/cluster/tufts/hugheslab/kheuto01/mambaforge/envs/learningarmy/lib/python3.11/site-packages/sklearn/metrics/_ranking.py:1033: UserWarning: No positive class found in y_true, recall is set to one for all thresholds.\n",
      "  warnings.warn(\n",
      "/cluster/tufts/hugheslab/kheuto01/mambaforge/envs/learningarmy/lib/python3.11/site-packages/sklearn/metrics/_ranking.py:1033: UserWarning: No positive class found in y_true, recall is set to one for all thresholds.\n",
      "  warnings.warn(\n",
      "/cluster/tufts/hugheslab/kheuto01/mambaforge/envs/learningarmy/lib/python3.11/site-packages/sklearn/metrics/_ranking.py:1033: UserWarning: No positive class found in y_true, recall is set to one for all thresholds.\n",
      "  warnings.warn(\n",
      "/cluster/tufts/hugheslab/kheuto01/mambaforge/envs/learningarmy/lib/python3.11/site-packages/sklearn/metrics/_ranking.py:1033: UserWarning: No positive class found in y_true, recall is set to one for all thresholds.\n",
      "  warnings.warn(\n",
      "/cluster/tufts/hugheslab/kheuto01/mambaforge/envs/learningarmy/lib/python3.11/site-packages/sklearn/metrics/_ranking.py:1033: UserWarning: No positive class found in y_true, recall is set to one for all thresholds.\n",
      "  warnings.warn(\n",
      "/cluster/tufts/hugheslab/kheuto01/mambaforge/envs/learningarmy/lib/python3.11/site-packages/sklearn/metrics/_ranking.py:1033: UserWarning: No positive class found in y_true, recall is set to one for all thresholds.\n",
      "  warnings.warn(\n",
      "/cluster/tufts/hugheslab/kheuto01/mambaforge/envs/learningarmy/lib/python3.11/site-packages/sklearn/metrics/_ranking.py:1033: UserWarning: No positive class found in y_true, recall is set to one for all thresholds.\n",
      "  warnings.warn(\n",
      "/cluster/tufts/hugheslab/kheuto01/mambaforge/envs/learningarmy/lib/python3.11/site-packages/sklearn/metrics/_ranking.py:1033: UserWarning: No positive class found in y_true, recall is set to one for all thresholds.\n",
      "  warnings.warn(\n",
      "/cluster/tufts/hugheslab/kheuto01/mambaforge/envs/learningarmy/lib/python3.11/site-packages/sklearn/metrics/_ranking.py:1033: UserWarning: No positive class found in y_true, recall is set to one for all thresholds.\n",
      "  warnings.warn(\n",
      "/cluster/tufts/hugheslab/kheuto01/mambaforge/envs/learningarmy/lib/python3.11/site-packages/sklearn/metrics/_ranking.py:1033: UserWarning: No positive class found in y_true, recall is set to one for all thresholds.\n",
      "  warnings.warn(\n",
      "/cluster/tufts/hugheslab/kheuto01/mambaforge/envs/learningarmy/lib/python3.11/site-packages/sklearn/metrics/_ranking.py:1033: UserWarning: No positive class found in y_true, recall is set to one for all thresholds.\n",
      "  warnings.warn(\n"
     ]
    },
    {
     "name": "stdout",
     "output_type": "stream",
     "text": [
      "[0 1 2 3 4 5 6 7]\n"
     ]
    },
    {
     "name": "stderr",
     "output_type": "stream",
     "text": [
      "/cluster/tufts/hugheslab/kheuto01/mambaforge/envs/learningarmy/lib/python3.11/site-packages/sklearn/metrics/_ranking.py:379: UndefinedMetricWarning: Only one class is present in y_true. ROC AUC score is not defined in that case.\n",
      "  warnings.warn(\n",
      "/cluster/tufts/hugheslab/kheuto01/mambaforge/envs/learningarmy/lib/python3.11/site-packages/sklearn/metrics/_ranking.py:379: UndefinedMetricWarning: Only one class is present in y_true. ROC AUC score is not defined in that case.\n",
      "  warnings.warn(\n",
      "/cluster/tufts/hugheslab/kheuto01/mambaforge/envs/learningarmy/lib/python3.11/site-packages/sklearn/metrics/_ranking.py:379: UndefinedMetricWarning: Only one class is present in y_true. ROC AUC score is not defined in that case.\n",
      "  warnings.warn(\n",
      "/cluster/tufts/hugheslab/kheuto01/mambaforge/envs/learningarmy/lib/python3.11/site-packages/sklearn/metrics/_ranking.py:379: UndefinedMetricWarning: Only one class is present in y_true. ROC AUC score is not defined in that case.\n",
      "  warnings.warn(\n",
      "/cluster/tufts/hugheslab/kheuto01/mambaforge/envs/learningarmy/lib/python3.11/site-packages/sklearn/metrics/_ranking.py:379: UndefinedMetricWarning: Only one class is present in y_true. ROC AUC score is not defined in that case.\n",
      "  warnings.warn(\n",
      "/cluster/tufts/hugheslab/kheuto01/mambaforge/envs/learningarmy/lib/python3.11/site-packages/sklearn/metrics/_ranking.py:379: UndefinedMetricWarning: Only one class is present in y_true. ROC AUC score is not defined in that case.\n",
      "  warnings.warn(\n",
      "/cluster/tufts/hugheslab/kheuto01/mambaforge/envs/learningarmy/lib/python3.11/site-packages/sklearn/metrics/_ranking.py:379: UndefinedMetricWarning: Only one class is present in y_true. ROC AUC score is not defined in that case.\n",
      "  warnings.warn(\n",
      "/cluster/tufts/hugheslab/kheuto01/mambaforge/envs/learningarmy/lib/python3.11/site-packages/sklearn/metrics/_ranking.py:379: UndefinedMetricWarning: Only one class is present in y_true. ROC AUC score is not defined in that case.\n",
      "  warnings.warn(\n",
      "/cluster/tufts/hugheslab/kheuto01/mambaforge/envs/learningarmy/lib/python3.11/site-packages/sklearn/metrics/_ranking.py:379: UndefinedMetricWarning: Only one class is present in y_true. ROC AUC score is not defined in that case.\n",
      "  warnings.warn(\n",
      "/cluster/tufts/hugheslab/kheuto01/mambaforge/envs/learningarmy/lib/python3.11/site-packages/sklearn/metrics/_ranking.py:379: UndefinedMetricWarning: Only one class is present in y_true. ROC AUC score is not defined in that case.\n",
      "  warnings.warn(\n",
      "/cluster/tufts/hugheslab/kheuto01/mambaforge/envs/learningarmy/lib/python3.11/site-packages/sklearn/metrics/_ranking.py:379: UndefinedMetricWarning: Only one class is present in y_true. ROC AUC score is not defined in that case.\n",
      "  warnings.warn(\n",
      "/cluster/tufts/hugheslab/kheuto01/mambaforge/envs/learningarmy/lib/python3.11/site-packages/sklearn/metrics/_ranking.py:379: UndefinedMetricWarning: Only one class is present in y_true. ROC AUC score is not defined in that case.\n",
      "  warnings.warn(\n",
      "/cluster/tufts/hugheslab/kheuto01/mambaforge/envs/learningarmy/lib/python3.11/site-packages/sklearn/metrics/_ranking.py:379: UndefinedMetricWarning: Only one class is present in y_true. ROC AUC score is not defined in that case.\n",
      "  warnings.warn(\n",
      "/cluster/tufts/hugheslab/kheuto01/mambaforge/envs/learningarmy/lib/python3.11/site-packages/sklearn/metrics/_ranking.py:379: UndefinedMetricWarning: Only one class is present in y_true. ROC AUC score is not defined in that case.\n",
      "  warnings.warn(\n",
      "/cluster/tufts/hugheslab/kheuto01/mambaforge/envs/learningarmy/lib/python3.11/site-packages/sklearn/metrics/_ranking.py:379: UndefinedMetricWarning: Only one class is present in y_true. ROC AUC score is not defined in that case.\n",
      "  warnings.warn(\n",
      "/cluster/tufts/hugheslab/kheuto01/mambaforge/envs/learningarmy/lib/python3.11/site-packages/sklearn/metrics/_ranking.py:379: UndefinedMetricWarning: Only one class is present in y_true. ROC AUC score is not defined in that case.\n",
      "  warnings.warn(\n",
      "/cluster/tufts/hugheslab/kheuto01/mambaforge/envs/learningarmy/lib/python3.11/site-packages/sklearn/metrics/_ranking.py:379: UndefinedMetricWarning: Only one class is present in y_true. ROC AUC score is not defined in that case.\n",
      "  warnings.warn(\n",
      "/cluster/tufts/hugheslab/kheuto01/mambaforge/envs/learningarmy/lib/python3.11/site-packages/sklearn/metrics/_ranking.py:379: UndefinedMetricWarning: Only one class is present in y_true. ROC AUC score is not defined in that case.\n",
      "  warnings.warn(\n",
      "/cluster/tufts/hugheslab/kheuto01/mambaforge/envs/learningarmy/lib/python3.11/site-packages/sklearn/metrics/_ranking.py:379: UndefinedMetricWarning: Only one class is present in y_true. ROC AUC score is not defined in that case.\n",
      "  warnings.warn(\n",
      "/cluster/tufts/hugheslab/kheuto01/mambaforge/envs/learningarmy/lib/python3.11/site-packages/sklearn/metrics/_ranking.py:379: UndefinedMetricWarning: Only one class is present in y_true. ROC AUC score is not defined in that case.\n",
      "  warnings.warn(\n",
      "/cluster/tufts/hugheslab/kheuto01/mambaforge/envs/learningarmy/lib/python3.11/site-packages/sklearn/metrics/_ranking.py:379: UndefinedMetricWarning: Only one class is present in y_true. ROC AUC score is not defined in that case.\n",
      "  warnings.warn(\n",
      "/cluster/tufts/hugheslab/kheuto01/mambaforge/envs/learningarmy/lib/python3.11/site-packages/sklearn/metrics/_ranking.py:379: UndefinedMetricWarning: Only one class is present in y_true. ROC AUC score is not defined in that case.\n",
      "  warnings.warn(\n",
      "/cluster/tufts/hugheslab/kheuto01/mambaforge/envs/learningarmy/lib/python3.11/site-packages/sklearn/metrics/_ranking.py:379: UndefinedMetricWarning: Only one class is present in y_true. ROC AUC score is not defined in that case.\n",
      "  warnings.warn(\n",
      "/cluster/tufts/hugheslab/kheuto01/mambaforge/envs/learningarmy/lib/python3.11/site-packages/sklearn/metrics/_ranking.py:379: UndefinedMetricWarning: Only one class is present in y_true. ROC AUC score is not defined in that case.\n",
      "  warnings.warn(\n",
      "/cluster/tufts/hugheslab/kheuto01/mambaforge/envs/learningarmy/lib/python3.11/site-packages/sklearn/metrics/_ranking.py:379: UndefinedMetricWarning: Only one class is present in y_true. ROC AUC score is not defined in that case.\n",
      "  warnings.warn(\n",
      "/cluster/tufts/hugheslab/kheuto01/mambaforge/envs/learningarmy/lib/python3.11/site-packages/sklearn/metrics/_ranking.py:379: UndefinedMetricWarning: Only one class is present in y_true. ROC AUC score is not defined in that case.\n",
      "  warnings.warn(\n",
      "/cluster/tufts/hugheslab/kheuto01/mambaforge/envs/learningarmy/lib/python3.11/site-packages/sklearn/metrics/_ranking.py:379: UndefinedMetricWarning: Only one class is present in y_true. ROC AUC score is not defined in that case.\n",
      "  warnings.warn(\n",
      "/cluster/tufts/hugheslab/kheuto01/mambaforge/envs/learningarmy/lib/python3.11/site-packages/sklearn/metrics/_ranking.py:379: UndefinedMetricWarning: Only one class is present in y_true. ROC AUC score is not defined in that case.\n",
      "  warnings.warn(\n",
      "/cluster/tufts/hugheslab/kheuto01/mambaforge/envs/learningarmy/lib/python3.11/site-packages/sklearn/metrics/_ranking.py:379: UndefinedMetricWarning: Only one class is present in y_true. ROC AUC score is not defined in that case.\n",
      "  warnings.warn(\n"
     ]
    },
    {
     "data": {
      "application/vnd.jupyter.widget-view+json": {
       "model_id": "7641f07c7e4e46d9b67a7c4baa613c87",
       "version_major": 2,
       "version_minor": 0
      },
      "text/plain": [
       "Map:   0%|          | 0/60 [00:00<?, ? examples/s]"
      ]
     },
     "metadata": {},
     "output_type": "display_data"
    },
    {
     "data": {
      "application/vnd.jupyter.widget-view+json": {
       "model_id": "6baacf204b5d41fca2a70da7511befc7",
       "version_major": 2,
       "version_minor": 0
      },
      "text/plain": [
       "Map:   0%|          | 0/60 [00:00<?, ? examples/s]"
      ]
     },
     "metadata": {},
     "output_type": "display_data"
    },
    {
     "name": "stdout",
     "output_type": "stream",
     "text": [
      "[0 1 2 3 4 5 6 7]\n"
     ]
    },
    {
     "name": "stderr",
     "output_type": "stream",
     "text": [
      "/cluster/tufts/hugheslab/kheuto01/mambaforge/envs/learningarmy/lib/python3.11/site-packages/sklearn/metrics/_ranking.py:1033: UserWarning: No positive class found in y_true, recall is set to one for all thresholds.\n",
      "  warnings.warn(\n",
      "/cluster/tufts/hugheslab/kheuto01/mambaforge/envs/learningarmy/lib/python3.11/site-packages/sklearn/metrics/_ranking.py:1033: UserWarning: No positive class found in y_true, recall is set to one for all thresholds.\n",
      "  warnings.warn(\n",
      "/cluster/tufts/hugheslab/kheuto01/mambaforge/envs/learningarmy/lib/python3.11/site-packages/sklearn/metrics/_ranking.py:1033: UserWarning: No positive class found in y_true, recall is set to one for all thresholds.\n",
      "  warnings.warn(\n",
      "/cluster/tufts/hugheslab/kheuto01/mambaforge/envs/learningarmy/lib/python3.11/site-packages/sklearn/metrics/_ranking.py:1033: UserWarning: No positive class found in y_true, recall is set to one for all thresholds.\n",
      "  warnings.warn(\n",
      "/cluster/tufts/hugheslab/kheuto01/mambaforge/envs/learningarmy/lib/python3.11/site-packages/sklearn/metrics/_ranking.py:1033: UserWarning: No positive class found in y_true, recall is set to one for all thresholds.\n",
      "  warnings.warn(\n",
      "/cluster/tufts/hugheslab/kheuto01/mambaforge/envs/learningarmy/lib/python3.11/site-packages/sklearn/metrics/_ranking.py:1033: UserWarning: No positive class found in y_true, recall is set to one for all thresholds.\n",
      "  warnings.warn(\n",
      "/cluster/tufts/hugheslab/kheuto01/mambaforge/envs/learningarmy/lib/python3.11/site-packages/sklearn/metrics/_ranking.py:1033: UserWarning: No positive class found in y_true, recall is set to one for all thresholds.\n",
      "  warnings.warn(\n",
      "/cluster/tufts/hugheslab/kheuto01/mambaforge/envs/learningarmy/lib/python3.11/site-packages/sklearn/metrics/_ranking.py:1033: UserWarning: No positive class found in y_true, recall is set to one for all thresholds.\n",
      "  warnings.warn(\n",
      "/cluster/tufts/hugheslab/kheuto01/mambaforge/envs/learningarmy/lib/python3.11/site-packages/sklearn/metrics/_ranking.py:1033: UserWarning: No positive class found in y_true, recall is set to one for all thresholds.\n",
      "  warnings.warn(\n",
      "/cluster/tufts/hugheslab/kheuto01/mambaforge/envs/learningarmy/lib/python3.11/site-packages/sklearn/metrics/_ranking.py:1033: UserWarning: No positive class found in y_true, recall is set to one for all thresholds.\n",
      "  warnings.warn(\n",
      "/cluster/tufts/hugheslab/kheuto01/mambaforge/envs/learningarmy/lib/python3.11/site-packages/sklearn/metrics/_ranking.py:1033: UserWarning: No positive class found in y_true, recall is set to one for all thresholds.\n",
      "  warnings.warn(\n",
      "/cluster/tufts/hugheslab/kheuto01/mambaforge/envs/learningarmy/lib/python3.11/site-packages/sklearn/metrics/_ranking.py:1033: UserWarning: No positive class found in y_true, recall is set to one for all thresholds.\n",
      "  warnings.warn(\n",
      "/cluster/tufts/hugheslab/kheuto01/mambaforge/envs/learningarmy/lib/python3.11/site-packages/sklearn/metrics/_ranking.py:1033: UserWarning: No positive class found in y_true, recall is set to one for all thresholds.\n",
      "  warnings.warn(\n",
      "/cluster/tufts/hugheslab/kheuto01/mambaforge/envs/learningarmy/lib/python3.11/site-packages/sklearn/metrics/_ranking.py:1033: UserWarning: No positive class found in y_true, recall is set to one for all thresholds.\n",
      "  warnings.warn(\n",
      "/cluster/tufts/hugheslab/kheuto01/mambaforge/envs/learningarmy/lib/python3.11/site-packages/sklearn/metrics/_ranking.py:1033: UserWarning: No positive class found in y_true, recall is set to one for all thresholds.\n",
      "  warnings.warn(\n",
      "/cluster/tufts/hugheslab/kheuto01/mambaforge/envs/learningarmy/lib/python3.11/site-packages/sklearn/metrics/_ranking.py:1033: UserWarning: No positive class found in y_true, recall is set to one for all thresholds.\n",
      "  warnings.warn(\n",
      "/cluster/tufts/hugheslab/kheuto01/mambaforge/envs/learningarmy/lib/python3.11/site-packages/sklearn/metrics/_ranking.py:1033: UserWarning: No positive class found in y_true, recall is set to one for all thresholds.\n",
      "  warnings.warn(\n",
      "/cluster/tufts/hugheslab/kheuto01/mambaforge/envs/learningarmy/lib/python3.11/site-packages/sklearn/metrics/_ranking.py:1033: UserWarning: No positive class found in y_true, recall is set to one for all thresholds.\n",
      "  warnings.warn(\n",
      "/cluster/tufts/hugheslab/kheuto01/mambaforge/envs/learningarmy/lib/python3.11/site-packages/sklearn/metrics/_ranking.py:1033: UserWarning: No positive class found in y_true, recall is set to one for all thresholds.\n",
      "  warnings.warn(\n",
      "/cluster/tufts/hugheslab/kheuto01/mambaforge/envs/learningarmy/lib/python3.11/site-packages/sklearn/metrics/_ranking.py:1033: UserWarning: No positive class found in y_true, recall is set to one for all thresholds.\n",
      "  warnings.warn(\n",
      "/cluster/tufts/hugheslab/kheuto01/mambaforge/envs/learningarmy/lib/python3.11/site-packages/sklearn/metrics/_ranking.py:1033: UserWarning: No positive class found in y_true, recall is set to one for all thresholds.\n",
      "  warnings.warn(\n",
      "/cluster/tufts/hugheslab/kheuto01/mambaforge/envs/learningarmy/lib/python3.11/site-packages/sklearn/metrics/_ranking.py:1033: UserWarning: No positive class found in y_true, recall is set to one for all thresholds.\n",
      "  warnings.warn(\n",
      "/cluster/tufts/hugheslab/kheuto01/mambaforge/envs/learningarmy/lib/python3.11/site-packages/sklearn/metrics/_ranking.py:1033: UserWarning: No positive class found in y_true, recall is set to one for all thresholds.\n",
      "  warnings.warn(\n",
      "/cluster/tufts/hugheslab/kheuto01/mambaforge/envs/learningarmy/lib/python3.11/site-packages/sklearn/metrics/_ranking.py:1033: UserWarning: No positive class found in y_true, recall is set to one for all thresholds.\n",
      "  warnings.warn(\n",
      "/cluster/tufts/hugheslab/kheuto01/mambaforge/envs/learningarmy/lib/python3.11/site-packages/sklearn/metrics/_ranking.py:1033: UserWarning: No positive class found in y_true, recall is set to one for all thresholds.\n",
      "  warnings.warn(\n",
      "/cluster/tufts/hugheslab/kheuto01/mambaforge/envs/learningarmy/lib/python3.11/site-packages/sklearn/metrics/_ranking.py:1033: UserWarning: No positive class found in y_true, recall is set to one for all thresholds.\n",
      "  warnings.warn(\n",
      "/cluster/tufts/hugheslab/kheuto01/mambaforge/envs/learningarmy/lib/python3.11/site-packages/sklearn/metrics/_ranking.py:1033: UserWarning: No positive class found in y_true, recall is set to one for all thresholds.\n",
      "  warnings.warn(\n",
      "/cluster/tufts/hugheslab/kheuto01/mambaforge/envs/learningarmy/lib/python3.11/site-packages/sklearn/metrics/_ranking.py:1033: UserWarning: No positive class found in y_true, recall is set to one for all thresholds.\n",
      "  warnings.warn(\n",
      "/cluster/tufts/hugheslab/kheuto01/mambaforge/envs/learningarmy/lib/python3.11/site-packages/sklearn/metrics/_ranking.py:1033: UserWarning: No positive class found in y_true, recall is set to one for all thresholds.\n",
      "  warnings.warn(\n"
     ]
    },
    {
     "name": "stdout",
     "output_type": "stream",
     "text": [
      "[0 1 2 3 4 5 6 7]\n"
     ]
    },
    {
     "name": "stderr",
     "output_type": "stream",
     "text": [
      "/cluster/tufts/hugheslab/kheuto01/mambaforge/envs/learningarmy/lib/python3.11/site-packages/sklearn/metrics/_ranking.py:379: UndefinedMetricWarning: Only one class is present in y_true. ROC AUC score is not defined in that case.\n",
      "  warnings.warn(\n",
      "/cluster/tufts/hugheslab/kheuto01/mambaforge/envs/learningarmy/lib/python3.11/site-packages/sklearn/metrics/_ranking.py:379: UndefinedMetricWarning: Only one class is present in y_true. ROC AUC score is not defined in that case.\n",
      "  warnings.warn(\n",
      "/cluster/tufts/hugheslab/kheuto01/mambaforge/envs/learningarmy/lib/python3.11/site-packages/sklearn/metrics/_ranking.py:379: UndefinedMetricWarning: Only one class is present in y_true. ROC AUC score is not defined in that case.\n",
      "  warnings.warn(\n",
      "/cluster/tufts/hugheslab/kheuto01/mambaforge/envs/learningarmy/lib/python3.11/site-packages/sklearn/metrics/_ranking.py:379: UndefinedMetricWarning: Only one class is present in y_true. ROC AUC score is not defined in that case.\n",
      "  warnings.warn(\n",
      "/cluster/tufts/hugheslab/kheuto01/mambaforge/envs/learningarmy/lib/python3.11/site-packages/sklearn/metrics/_ranking.py:379: UndefinedMetricWarning: Only one class is present in y_true. ROC AUC score is not defined in that case.\n",
      "  warnings.warn(\n",
      "/cluster/tufts/hugheslab/kheuto01/mambaforge/envs/learningarmy/lib/python3.11/site-packages/sklearn/metrics/_ranking.py:379: UndefinedMetricWarning: Only one class is present in y_true. ROC AUC score is not defined in that case.\n",
      "  warnings.warn(\n",
      "/cluster/tufts/hugheslab/kheuto01/mambaforge/envs/learningarmy/lib/python3.11/site-packages/sklearn/metrics/_ranking.py:379: UndefinedMetricWarning: Only one class is present in y_true. ROC AUC score is not defined in that case.\n",
      "  warnings.warn(\n",
      "/cluster/tufts/hugheslab/kheuto01/mambaforge/envs/learningarmy/lib/python3.11/site-packages/sklearn/metrics/_ranking.py:379: UndefinedMetricWarning: Only one class is present in y_true. ROC AUC score is not defined in that case.\n",
      "  warnings.warn(\n",
      "/cluster/tufts/hugheslab/kheuto01/mambaforge/envs/learningarmy/lib/python3.11/site-packages/sklearn/metrics/_ranking.py:379: UndefinedMetricWarning: Only one class is present in y_true. ROC AUC score is not defined in that case.\n",
      "  warnings.warn(\n",
      "/cluster/tufts/hugheslab/kheuto01/mambaforge/envs/learningarmy/lib/python3.11/site-packages/sklearn/metrics/_ranking.py:379: UndefinedMetricWarning: Only one class is present in y_true. ROC AUC score is not defined in that case.\n",
      "  warnings.warn(\n",
      "/cluster/tufts/hugheslab/kheuto01/mambaforge/envs/learningarmy/lib/python3.11/site-packages/sklearn/metrics/_ranking.py:379: UndefinedMetricWarning: Only one class is present in y_true. ROC AUC score is not defined in that case.\n",
      "  warnings.warn(\n",
      "/cluster/tufts/hugheslab/kheuto01/mambaforge/envs/learningarmy/lib/python3.11/site-packages/sklearn/metrics/_ranking.py:379: UndefinedMetricWarning: Only one class is present in y_true. ROC AUC score is not defined in that case.\n",
      "  warnings.warn(\n",
      "/cluster/tufts/hugheslab/kheuto01/mambaforge/envs/learningarmy/lib/python3.11/site-packages/sklearn/metrics/_ranking.py:379: UndefinedMetricWarning: Only one class is present in y_true. ROC AUC score is not defined in that case.\n",
      "  warnings.warn(\n",
      "/cluster/tufts/hugheslab/kheuto01/mambaforge/envs/learningarmy/lib/python3.11/site-packages/sklearn/metrics/_ranking.py:379: UndefinedMetricWarning: Only one class is present in y_true. ROC AUC score is not defined in that case.\n",
      "  warnings.warn(\n",
      "/cluster/tufts/hugheslab/kheuto01/mambaforge/envs/learningarmy/lib/python3.11/site-packages/sklearn/metrics/_ranking.py:379: UndefinedMetricWarning: Only one class is present in y_true. ROC AUC score is not defined in that case.\n",
      "  warnings.warn(\n",
      "/cluster/tufts/hugheslab/kheuto01/mambaforge/envs/learningarmy/lib/python3.11/site-packages/sklearn/metrics/_ranking.py:379: UndefinedMetricWarning: Only one class is present in y_true. ROC AUC score is not defined in that case.\n",
      "  warnings.warn(\n",
      "/cluster/tufts/hugheslab/kheuto01/mambaforge/envs/learningarmy/lib/python3.11/site-packages/sklearn/metrics/_ranking.py:379: UndefinedMetricWarning: Only one class is present in y_true. ROC AUC score is not defined in that case.\n",
      "  warnings.warn(\n",
      "/cluster/tufts/hugheslab/kheuto01/mambaforge/envs/learningarmy/lib/python3.11/site-packages/sklearn/metrics/_ranking.py:379: UndefinedMetricWarning: Only one class is present in y_true. ROC AUC score is not defined in that case.\n",
      "  warnings.warn(\n",
      "/cluster/tufts/hugheslab/kheuto01/mambaforge/envs/learningarmy/lib/python3.11/site-packages/sklearn/metrics/_ranking.py:379: UndefinedMetricWarning: Only one class is present in y_true. ROC AUC score is not defined in that case.\n",
      "  warnings.warn(\n",
      "/cluster/tufts/hugheslab/kheuto01/mambaforge/envs/learningarmy/lib/python3.11/site-packages/sklearn/metrics/_ranking.py:379: UndefinedMetricWarning: Only one class is present in y_true. ROC AUC score is not defined in that case.\n",
      "  warnings.warn(\n",
      "/cluster/tufts/hugheslab/kheuto01/mambaforge/envs/learningarmy/lib/python3.11/site-packages/sklearn/metrics/_ranking.py:379: UndefinedMetricWarning: Only one class is present in y_true. ROC AUC score is not defined in that case.\n",
      "  warnings.warn(\n",
      "/cluster/tufts/hugheslab/kheuto01/mambaforge/envs/learningarmy/lib/python3.11/site-packages/sklearn/metrics/_ranking.py:379: UndefinedMetricWarning: Only one class is present in y_true. ROC AUC score is not defined in that case.\n",
      "  warnings.warn(\n",
      "/cluster/tufts/hugheslab/kheuto01/mambaforge/envs/learningarmy/lib/python3.11/site-packages/sklearn/metrics/_ranking.py:379: UndefinedMetricWarning: Only one class is present in y_true. ROC AUC score is not defined in that case.\n",
      "  warnings.warn(\n",
      "/cluster/tufts/hugheslab/kheuto01/mambaforge/envs/learningarmy/lib/python3.11/site-packages/sklearn/metrics/_ranking.py:379: UndefinedMetricWarning: Only one class is present in y_true. ROC AUC score is not defined in that case.\n",
      "  warnings.warn(\n",
      "/cluster/tufts/hugheslab/kheuto01/mambaforge/envs/learningarmy/lib/python3.11/site-packages/sklearn/metrics/_ranking.py:379: UndefinedMetricWarning: Only one class is present in y_true. ROC AUC score is not defined in that case.\n",
      "  warnings.warn(\n",
      "/cluster/tufts/hugheslab/kheuto01/mambaforge/envs/learningarmy/lib/python3.11/site-packages/sklearn/metrics/_ranking.py:379: UndefinedMetricWarning: Only one class is present in y_true. ROC AUC score is not defined in that case.\n",
      "  warnings.warn(\n",
      "/cluster/tufts/hugheslab/kheuto01/mambaforge/envs/learningarmy/lib/python3.11/site-packages/sklearn/metrics/_ranking.py:379: UndefinedMetricWarning: Only one class is present in y_true. ROC AUC score is not defined in that case.\n",
      "  warnings.warn(\n",
      "/cluster/tufts/hugheslab/kheuto01/mambaforge/envs/learningarmy/lib/python3.11/site-packages/sklearn/metrics/_ranking.py:379: UndefinedMetricWarning: Only one class is present in y_true. ROC AUC score is not defined in that case.\n",
      "  warnings.warn(\n",
      "/cluster/tufts/hugheslab/kheuto01/mambaforge/envs/learningarmy/lib/python3.11/site-packages/sklearn/metrics/_ranking.py:379: UndefinedMetricWarning: Only one class is present in y_true. ROC AUC score is not defined in that case.\n",
      "  warnings.warn(\n"
     ]
    }
   ],
   "source": [
    "all_results = []\n",
    "all_auprcs = []\n",
    "all_micros = []\n",
    "all_micro_auprcs = []\n",
    "all_bootstraps = []\n",
    "all_bootstrap_auprcs = []\n",
    "pred_collection = []\n",
    "label_collection = []\n",
    "\n",
    "best_15_exps = ['/cluster/tufts/hugheslab/kheuto01/sensemaking/bow_test/test15_lr0.01_wd0.001_bsN/',\n",
    "                '/cluster/tufts/hugheslab/kheuto01/sensemaking/bertfrozen_test/test15_lr0.001_wd0.001_bsN/']\n",
    "\n",
    "\n",
    "\n",
    "for experiment_directory in best_15_exps:\n",
    "    problem_config_path = '/cluster/home/kheuto01/code/play-with-learning-army/config/problem_config.yaml'\n",
    "    test_metrics_path = os.path.join(experiment_directory, 'test_metrics.csv')\n",
    "    config_path = os.path.join(experiment_directory, 'config.yaml')\n",
    "    model_path = os.path.join(experiment_directory, 'final_model_0.pth')\n",
    "    hyper_config = yaml.load(open(config_path, 'r'), Loader=yaml.FullLoader)\n",
    "    problem_config = yaml.load(open(problem_config_path, 'r'), Loader=yaml.FullLoader)\n",
    "    num_domains = problem_config['num_domains']\n",
    "    train_datasets, test_datasets =  load_datasets(hyper_config, problem_config, train=True, val=True)\n",
    "    train_dataset_hf = create_hf_dataset(train_datasets[0])[0]\n",
    "    test_dataset_hf = create_hf_dataset(test_datasets[0])[0]\n",
    "    criteria_texts = train_datasets[0][-1]\n",
    "\n",
    "    save_dict = torch.load(model_path, weights_only=False, map_location=torch.device('cpu'))\n",
    "\n",
    "    if hyper_config['embedder'] == 'frozen_bert':\n",
    "        preprocessor = bert_preprocessing\n",
    "    elif hyper_config['embedder'] == 'bow':\n",
    "        preprocessor = bow_preprocessing\n",
    "    else:\n",
    "        print(f'OOOPS! Embedder {hyper_config[\"embedder\"]} not supported')\n",
    "\n",
    "    with torch.no_grad():\n",
    "        if hyper_config['embedder'] == 'bow':\n",
    "            _, _, vectorizer = preprocessor(train_dataset_hf, criteria_texts, hyper_config)\n",
    "            test_dataset, test_criteria, vectorizer = preprocessor(test_dataset_hf, criteria_texts, hyper_config, vectorizer=vectorizer)\n",
    "        else:\n",
    "            test_dataset, test_criteria = preprocessor(test_dataset_hf, criteria_texts, hyper_config)\n",
    "\n",
    "    criteria_to_head_mapping = problem_config['criteria_to_head_mapping']\n",
    "    model = MultiDomainMultiCriteriaClassifier(\n",
    "                finetune=hyper_config.get('finetune', False),\n",
    "                embedding_dim = len(test_dataset['embedding'][0]),\n",
    "                criteria_to_head_mapping=criteria_to_head_mapping,\n",
    "                output_length=max([len(c_list) for c_list in criteria_to_head_mapping])\n",
    "            )\n",
    "    model.load_state_dict(save_dict)\n",
    "    all_preds, all_labels, all_weights, all_domains = [], [], [], []\n",
    "\n",
    "    batch_length = len(test_dataset['embedding'])\n",
    "        \n",
    "    for i in range(batch_length):\n",
    "        x = torch.tensor(test_dataset['embedding'][i])\n",
    "        y = test_dataset['targets'][i]\n",
    "        p = test_dataset['problem_indices'][i]\n",
    "        s = test_dataset['prediction_counts'][i]\n",
    "\n",
    "        criteria_counter = 0\n",
    "        for d in range(num_domains):\n",
    "            num_criteria = problem_config['problems'][p]['domains'][d][\"num_criteria\"]\n",
    "            criteria_indices = criteria_to_head_mapping[p]\n",
    "            for c in range(num_criteria):\n",
    "                head_idx = criteria_indices[criteria_counter]\n",
    "                combined_emb = x + test_criteria[int(p)][criteria_counter]  # Combine embeddings\n",
    "        \n",
    "                y_pred = model.classification_heads[head_idx](combined_emb)\n",
    "                weight = 1/num_criteria\n",
    "\n",
    "                all_preds.append(y_pred.detach().cpu().numpy())\n",
    "                all_labels.append(y[criteria_counter])\n",
    "                all_weights.append(weight)\n",
    "                all_domains.append(d)\n",
    "                criteria_counter += 1\n",
    "\n",
    "    all_preds_np = np.concatenate(all_preds).flatten()\n",
    "    all_labels_np = np.array(all_labels).flatten()\n",
    "    all_labels = torch.tensor(np.array(all_labels)).squeeze()\n",
    "    all_preds = torch.tensor(all_preds).squeeze()\n",
    "\n",
    "    domain_auprc = bootstrap_metric_across_domains(all_labels, all_preds, average_precision_score, all_domains)\n",
    "    micro_auprc, micro_auprc_low, micro_auprc_high, micro_auprc_scores = bootstrap_metric(all_labels, all_preds, average_precision_score)\n",
    "    domain_auroc = bootstrap_metric_across_domains(all_labels, all_preds, roc_auc_score, all_domains)\n",
    "    micro_auroc, micro_auroc_low, micro_auroc_high, micro_auroc_scores = bootstrap_metric(all_labels, all_preds, roc_auc_score)\n",
    "    all_micros.append((micro_auroc, (micro_auroc_low, micro_auroc_high)))\n",
    "    all_micro_auprcs.append((micro_auprc, (micro_auprc_low, micro_auprc_high)))\n",
    "    results = [(domain_auroc[d]['mean'], domain_auroc[d]['error']) for d in range(8)]\n",
    "    auprcs = [(domain_auprc[d]['mean'], domain_auprc[d]['error']) for d in range(8)]\n",
    "\n",
    "    all_results.append(results)\n",
    "    all_auprcs.append(auprcs)\n",
    "    all_bootstraps.append(micro_auroc_scores)\n",
    "    all_bootstrap_auprcs.append(micro_auprc_scores)\n",
    "    pred_collection.append(all_preds)\n",
    "    label_collection.append(all_labels)\n",
    "\n"
   ]
  },
  {
   "cell_type": "code",
   "execution_count": 2,
   "metadata": {},
   "outputs": [
    {
     "ename": "NameError",
     "evalue": "name 'all_preds' is not defined",
     "output_type": "error",
     "traceback": [
      "\u001b[0;31m---------------------------------------------------------------------------\u001b[0m",
      "\u001b[0;31mNameError\u001b[0m                                 Traceback (most recent call last)",
      "Cell \u001b[0;32mIn[2], line 1\u001b[0m\n\u001b[0;32m----> 1\u001b[0m \u001b[38;5;28mlen\u001b[39m(\u001b[43mall_preds\u001b[49m)\n",
      "\u001b[0;31mNameError\u001b[0m: name 'all_preds' is not defined"
     ]
    }
   ],
   "source": [
    "len(all_preds)"
   ]
  },
  {
   "cell_type": "code",
   "execution_count": 9,
   "metadata": {},
   "outputs": [
    {
     "name": "stdout",
     "output_type": "stream",
     "text": [
      "OOOPS! Embedder bert not supported\n"
     ]
    },
    {
     "data": {
      "application/vnd.jupyter.widget-view+json": {
       "model_id": "37e998c4ac6d4f3090f008e991fcb5bf",
       "version_major": 2,
       "version_minor": 0
      },
      "text/plain": [
       "Map:   0%|          | 0/60 [00:00<?, ? examples/s]"
      ]
     },
     "metadata": {},
     "output_type": "display_data"
    },
    {
     "data": {
      "application/vnd.jupyter.widget-view+json": {
       "model_id": "70503f0e5517464c989d5e1da7bd4ad2",
       "version_major": 2,
       "version_minor": 0
      },
      "text/plain": [
       "Map:   0%|          | 0/60 [00:00<?, ? examples/s]"
      ]
     },
     "metadata": {},
     "output_type": "display_data"
    },
    {
     "name": "stdout",
     "output_type": "stream",
     "text": [
      "[0 1 2 3 4 5 6 7]\n"
     ]
    },
    {
     "name": "stderr",
     "output_type": "stream",
     "text": [
      "/cluster/tufts/hugheslab/kheuto01/mambaforge/envs/learningarmy/lib/python3.11/site-packages/sklearn/metrics/_ranking.py:1033: UserWarning: No positive class found in y_true, recall is set to one for all thresholds.\n",
      "  warnings.warn(\n",
      "/cluster/tufts/hugheslab/kheuto01/mambaforge/envs/learningarmy/lib/python3.11/site-packages/sklearn/metrics/_ranking.py:1033: UserWarning: No positive class found in y_true, recall is set to one for all thresholds.\n",
      "  warnings.warn(\n",
      "/cluster/tufts/hugheslab/kheuto01/mambaforge/envs/learningarmy/lib/python3.11/site-packages/sklearn/metrics/_ranking.py:1033: UserWarning: No positive class found in y_true, recall is set to one for all thresholds.\n",
      "  warnings.warn(\n",
      "/cluster/tufts/hugheslab/kheuto01/mambaforge/envs/learningarmy/lib/python3.11/site-packages/sklearn/metrics/_ranking.py:1033: UserWarning: No positive class found in y_true, recall is set to one for all thresholds.\n",
      "  warnings.warn(\n",
      "/cluster/tufts/hugheslab/kheuto01/mambaforge/envs/learningarmy/lib/python3.11/site-packages/sklearn/metrics/_ranking.py:1033: UserWarning: No positive class found in y_true, recall is set to one for all thresholds.\n",
      "  warnings.warn(\n",
      "/cluster/tufts/hugheslab/kheuto01/mambaforge/envs/learningarmy/lib/python3.11/site-packages/sklearn/metrics/_ranking.py:1033: UserWarning: No positive class found in y_true, recall is set to one for all thresholds.\n",
      "  warnings.warn(\n",
      "/cluster/tufts/hugheslab/kheuto01/mambaforge/envs/learningarmy/lib/python3.11/site-packages/sklearn/metrics/_ranking.py:1033: UserWarning: No positive class found in y_true, recall is set to one for all thresholds.\n",
      "  warnings.warn(\n",
      "/cluster/tufts/hugheslab/kheuto01/mambaforge/envs/learningarmy/lib/python3.11/site-packages/sklearn/metrics/_ranking.py:1033: UserWarning: No positive class found in y_true, recall is set to one for all thresholds.\n",
      "  warnings.warn(\n",
      "/cluster/tufts/hugheslab/kheuto01/mambaforge/envs/learningarmy/lib/python3.11/site-packages/sklearn/metrics/_ranking.py:1033: UserWarning: No positive class found in y_true, recall is set to one for all thresholds.\n",
      "  warnings.warn(\n",
      "/cluster/tufts/hugheslab/kheuto01/mambaforge/envs/learningarmy/lib/python3.11/site-packages/sklearn/metrics/_ranking.py:1033: UserWarning: No positive class found in y_true, recall is set to one for all thresholds.\n",
      "  warnings.warn(\n",
      "/cluster/tufts/hugheslab/kheuto01/mambaforge/envs/learningarmy/lib/python3.11/site-packages/sklearn/metrics/_ranking.py:1033: UserWarning: No positive class found in y_true, recall is set to one for all thresholds.\n",
      "  warnings.warn(\n",
      "/cluster/tufts/hugheslab/kheuto01/mambaforge/envs/learningarmy/lib/python3.11/site-packages/sklearn/metrics/_ranking.py:1033: UserWarning: No positive class found in y_true, recall is set to one for all thresholds.\n",
      "  warnings.warn(\n",
      "/cluster/tufts/hugheslab/kheuto01/mambaforge/envs/learningarmy/lib/python3.11/site-packages/sklearn/metrics/_ranking.py:1033: UserWarning: No positive class found in y_true, recall is set to one for all thresholds.\n",
      "  warnings.warn(\n",
      "/cluster/tufts/hugheslab/kheuto01/mambaforge/envs/learningarmy/lib/python3.11/site-packages/sklearn/metrics/_ranking.py:1033: UserWarning: No positive class found in y_true, recall is set to one for all thresholds.\n",
      "  warnings.warn(\n",
      "/cluster/tufts/hugheslab/kheuto01/mambaforge/envs/learningarmy/lib/python3.11/site-packages/sklearn/metrics/_ranking.py:1033: UserWarning: No positive class found in y_true, recall is set to one for all thresholds.\n",
      "  warnings.warn(\n",
      "/cluster/tufts/hugheslab/kheuto01/mambaforge/envs/learningarmy/lib/python3.11/site-packages/sklearn/metrics/_ranking.py:1033: UserWarning: No positive class found in y_true, recall is set to one for all thresholds.\n",
      "  warnings.warn(\n",
      "/cluster/tufts/hugheslab/kheuto01/mambaforge/envs/learningarmy/lib/python3.11/site-packages/sklearn/metrics/_ranking.py:1033: UserWarning: No positive class found in y_true, recall is set to one for all thresholds.\n",
      "  warnings.warn(\n",
      "/cluster/tufts/hugheslab/kheuto01/mambaforge/envs/learningarmy/lib/python3.11/site-packages/sklearn/metrics/_ranking.py:1033: UserWarning: No positive class found in y_true, recall is set to one for all thresholds.\n",
      "  warnings.warn(\n",
      "/cluster/tufts/hugheslab/kheuto01/mambaforge/envs/learningarmy/lib/python3.11/site-packages/sklearn/metrics/_ranking.py:1033: UserWarning: No positive class found in y_true, recall is set to one for all thresholds.\n",
      "  warnings.warn(\n",
      "/cluster/tufts/hugheslab/kheuto01/mambaforge/envs/learningarmy/lib/python3.11/site-packages/sklearn/metrics/_ranking.py:1033: UserWarning: No positive class found in y_true, recall is set to one for all thresholds.\n",
      "  warnings.warn(\n",
      "/cluster/tufts/hugheslab/kheuto01/mambaforge/envs/learningarmy/lib/python3.11/site-packages/sklearn/metrics/_ranking.py:1033: UserWarning: No positive class found in y_true, recall is set to one for all thresholds.\n",
      "  warnings.warn(\n",
      "/cluster/tufts/hugheslab/kheuto01/mambaforge/envs/learningarmy/lib/python3.11/site-packages/sklearn/metrics/_ranking.py:1033: UserWarning: No positive class found in y_true, recall is set to one for all thresholds.\n",
      "  warnings.warn(\n",
      "/cluster/tufts/hugheslab/kheuto01/mambaforge/envs/learningarmy/lib/python3.11/site-packages/sklearn/metrics/_ranking.py:1033: UserWarning: No positive class found in y_true, recall is set to one for all thresholds.\n",
      "  warnings.warn(\n",
      "/cluster/tufts/hugheslab/kheuto01/mambaforge/envs/learningarmy/lib/python3.11/site-packages/sklearn/metrics/_ranking.py:1033: UserWarning: No positive class found in y_true, recall is set to one for all thresholds.\n",
      "  warnings.warn(\n",
      "/cluster/tufts/hugheslab/kheuto01/mambaforge/envs/learningarmy/lib/python3.11/site-packages/sklearn/metrics/_ranking.py:1033: UserWarning: No positive class found in y_true, recall is set to one for all thresholds.\n",
      "  warnings.warn(\n",
      "/cluster/tufts/hugheslab/kheuto01/mambaforge/envs/learningarmy/lib/python3.11/site-packages/sklearn/metrics/_ranking.py:1033: UserWarning: No positive class found in y_true, recall is set to one for all thresholds.\n",
      "  warnings.warn(\n",
      "/cluster/tufts/hugheslab/kheuto01/mambaforge/envs/learningarmy/lib/python3.11/site-packages/sklearn/metrics/_ranking.py:1033: UserWarning: No positive class found in y_true, recall is set to one for all thresholds.\n",
      "  warnings.warn(\n",
      "/cluster/tufts/hugheslab/kheuto01/mambaforge/envs/learningarmy/lib/python3.11/site-packages/sklearn/metrics/_ranking.py:1033: UserWarning: No positive class found in y_true, recall is set to one for all thresholds.\n",
      "  warnings.warn(\n",
      "/cluster/tufts/hugheslab/kheuto01/mambaforge/envs/learningarmy/lib/python3.11/site-packages/sklearn/metrics/_ranking.py:1033: UserWarning: No positive class found in y_true, recall is set to one for all thresholds.\n",
      "  warnings.warn(\n"
     ]
    },
    {
     "name": "stdout",
     "output_type": "stream",
     "text": [
      "[0 1 2 3 4 5 6 7]\n"
     ]
    },
    {
     "name": "stderr",
     "output_type": "stream",
     "text": [
      "/cluster/tufts/hugheslab/kheuto01/mambaforge/envs/learningarmy/lib/python3.11/site-packages/sklearn/metrics/_ranking.py:379: UndefinedMetricWarning: Only one class is present in y_true. ROC AUC score is not defined in that case.\n",
      "  warnings.warn(\n",
      "/cluster/tufts/hugheslab/kheuto01/mambaforge/envs/learningarmy/lib/python3.11/site-packages/sklearn/metrics/_ranking.py:379: UndefinedMetricWarning: Only one class is present in y_true. ROC AUC score is not defined in that case.\n",
      "  warnings.warn(\n",
      "/cluster/tufts/hugheslab/kheuto01/mambaforge/envs/learningarmy/lib/python3.11/site-packages/sklearn/metrics/_ranking.py:379: UndefinedMetricWarning: Only one class is present in y_true. ROC AUC score is not defined in that case.\n",
      "  warnings.warn(\n",
      "/cluster/tufts/hugheslab/kheuto01/mambaforge/envs/learningarmy/lib/python3.11/site-packages/sklearn/metrics/_ranking.py:379: UndefinedMetricWarning: Only one class is present in y_true. ROC AUC score is not defined in that case.\n",
      "  warnings.warn(\n",
      "/cluster/tufts/hugheslab/kheuto01/mambaforge/envs/learningarmy/lib/python3.11/site-packages/sklearn/metrics/_ranking.py:379: UndefinedMetricWarning: Only one class is present in y_true. ROC AUC score is not defined in that case.\n",
      "  warnings.warn(\n",
      "/cluster/tufts/hugheslab/kheuto01/mambaforge/envs/learningarmy/lib/python3.11/site-packages/sklearn/metrics/_ranking.py:379: UndefinedMetricWarning: Only one class is present in y_true. ROC AUC score is not defined in that case.\n",
      "  warnings.warn(\n",
      "/cluster/tufts/hugheslab/kheuto01/mambaforge/envs/learningarmy/lib/python3.11/site-packages/sklearn/metrics/_ranking.py:379: UndefinedMetricWarning: Only one class is present in y_true. ROC AUC score is not defined in that case.\n",
      "  warnings.warn(\n",
      "/cluster/tufts/hugheslab/kheuto01/mambaforge/envs/learningarmy/lib/python3.11/site-packages/sklearn/metrics/_ranking.py:379: UndefinedMetricWarning: Only one class is present in y_true. ROC AUC score is not defined in that case.\n",
      "  warnings.warn(\n",
      "/cluster/tufts/hugheslab/kheuto01/mambaforge/envs/learningarmy/lib/python3.11/site-packages/sklearn/metrics/_ranking.py:379: UndefinedMetricWarning: Only one class is present in y_true. ROC AUC score is not defined in that case.\n",
      "  warnings.warn(\n",
      "/cluster/tufts/hugheslab/kheuto01/mambaforge/envs/learningarmy/lib/python3.11/site-packages/sklearn/metrics/_ranking.py:379: UndefinedMetricWarning: Only one class is present in y_true. ROC AUC score is not defined in that case.\n",
      "  warnings.warn(\n",
      "/cluster/tufts/hugheslab/kheuto01/mambaforge/envs/learningarmy/lib/python3.11/site-packages/sklearn/metrics/_ranking.py:379: UndefinedMetricWarning: Only one class is present in y_true. ROC AUC score is not defined in that case.\n",
      "  warnings.warn(\n",
      "/cluster/tufts/hugheslab/kheuto01/mambaforge/envs/learningarmy/lib/python3.11/site-packages/sklearn/metrics/_ranking.py:379: UndefinedMetricWarning: Only one class is present in y_true. ROC AUC score is not defined in that case.\n",
      "  warnings.warn(\n",
      "/cluster/tufts/hugheslab/kheuto01/mambaforge/envs/learningarmy/lib/python3.11/site-packages/sklearn/metrics/_ranking.py:379: UndefinedMetricWarning: Only one class is present in y_true. ROC AUC score is not defined in that case.\n",
      "  warnings.warn(\n",
      "/cluster/tufts/hugheslab/kheuto01/mambaforge/envs/learningarmy/lib/python3.11/site-packages/sklearn/metrics/_ranking.py:379: UndefinedMetricWarning: Only one class is present in y_true. ROC AUC score is not defined in that case.\n",
      "  warnings.warn(\n",
      "/cluster/tufts/hugheslab/kheuto01/mambaforge/envs/learningarmy/lib/python3.11/site-packages/sklearn/metrics/_ranking.py:379: UndefinedMetricWarning: Only one class is present in y_true. ROC AUC score is not defined in that case.\n",
      "  warnings.warn(\n",
      "/cluster/tufts/hugheslab/kheuto01/mambaforge/envs/learningarmy/lib/python3.11/site-packages/sklearn/metrics/_ranking.py:379: UndefinedMetricWarning: Only one class is present in y_true. ROC AUC score is not defined in that case.\n",
      "  warnings.warn(\n",
      "/cluster/tufts/hugheslab/kheuto01/mambaforge/envs/learningarmy/lib/python3.11/site-packages/sklearn/metrics/_ranking.py:379: UndefinedMetricWarning: Only one class is present in y_true. ROC AUC score is not defined in that case.\n",
      "  warnings.warn(\n",
      "/cluster/tufts/hugheslab/kheuto01/mambaforge/envs/learningarmy/lib/python3.11/site-packages/sklearn/metrics/_ranking.py:379: UndefinedMetricWarning: Only one class is present in y_true. ROC AUC score is not defined in that case.\n",
      "  warnings.warn(\n",
      "/cluster/tufts/hugheslab/kheuto01/mambaforge/envs/learningarmy/lib/python3.11/site-packages/sklearn/metrics/_ranking.py:379: UndefinedMetricWarning: Only one class is present in y_true. ROC AUC score is not defined in that case.\n",
      "  warnings.warn(\n",
      "/cluster/tufts/hugheslab/kheuto01/mambaforge/envs/learningarmy/lib/python3.11/site-packages/sklearn/metrics/_ranking.py:379: UndefinedMetricWarning: Only one class is present in y_true. ROC AUC score is not defined in that case.\n",
      "  warnings.warn(\n",
      "/cluster/tufts/hugheslab/kheuto01/mambaforge/envs/learningarmy/lib/python3.11/site-packages/sklearn/metrics/_ranking.py:379: UndefinedMetricWarning: Only one class is present in y_true. ROC AUC score is not defined in that case.\n",
      "  warnings.warn(\n",
      "/cluster/tufts/hugheslab/kheuto01/mambaforge/envs/learningarmy/lib/python3.11/site-packages/sklearn/metrics/_ranking.py:379: UndefinedMetricWarning: Only one class is present in y_true. ROC AUC score is not defined in that case.\n",
      "  warnings.warn(\n",
      "/cluster/tufts/hugheslab/kheuto01/mambaforge/envs/learningarmy/lib/python3.11/site-packages/sklearn/metrics/_ranking.py:379: UndefinedMetricWarning: Only one class is present in y_true. ROC AUC score is not defined in that case.\n",
      "  warnings.warn(\n",
      "/cluster/tufts/hugheslab/kheuto01/mambaforge/envs/learningarmy/lib/python3.11/site-packages/sklearn/metrics/_ranking.py:379: UndefinedMetricWarning: Only one class is present in y_true. ROC AUC score is not defined in that case.\n",
      "  warnings.warn(\n",
      "/cluster/tufts/hugheslab/kheuto01/mambaforge/envs/learningarmy/lib/python3.11/site-packages/sklearn/metrics/_ranking.py:379: UndefinedMetricWarning: Only one class is present in y_true. ROC AUC score is not defined in that case.\n",
      "  warnings.warn(\n",
      "/cluster/tufts/hugheslab/kheuto01/mambaforge/envs/learningarmy/lib/python3.11/site-packages/sklearn/metrics/_ranking.py:379: UndefinedMetricWarning: Only one class is present in y_true. ROC AUC score is not defined in that case.\n",
      "  warnings.warn(\n",
      "/cluster/tufts/hugheslab/kheuto01/mambaforge/envs/learningarmy/lib/python3.11/site-packages/sklearn/metrics/_ranking.py:379: UndefinedMetricWarning: Only one class is present in y_true. ROC AUC score is not defined in that case.\n",
      "  warnings.warn(\n",
      "/cluster/tufts/hugheslab/kheuto01/mambaforge/envs/learningarmy/lib/python3.11/site-packages/sklearn/metrics/_ranking.py:379: UndefinedMetricWarning: Only one class is present in y_true. ROC AUC score is not defined in that case.\n",
      "  warnings.warn(\n",
      "/cluster/tufts/hugheslab/kheuto01/mambaforge/envs/learningarmy/lib/python3.11/site-packages/sklearn/metrics/_ranking.py:379: UndefinedMetricWarning: Only one class is present in y_true. ROC AUC score is not defined in that case.\n",
      "  warnings.warn(\n"
     ]
    }
   ],
   "source": [
    "\n",
    "best_15_exps = ['/cluster/tufts/hugheslab/kheuto01/sensemaking/bertfinetune_test/test15_lr1e-05_alpha0.0001_beta0.1/']\n",
    "\n",
    "\n",
    "\n",
    "for experiment_directory in best_15_exps:\n",
    "    problem_config_path = '/cluster/home/kheuto01/code/play-with-learning-army/config/problem_config.yaml'\n",
    "    test_metrics_path = os.path.join(experiment_directory, 'test_metrics.csv')\n",
    "    config_path = os.path.join(experiment_directory, 'config.yaml')\n",
    "    model_path = os.path.join(experiment_directory, 'final_model.pth')\n",
    "    hyper_config = yaml.load(open(config_path, 'r'), Loader=yaml.FullLoader)\n",
    "    problem_config = yaml.load(open(problem_config_path, 'r'), Loader=yaml.FullLoader)\n",
    "    num_domains = problem_config['num_domains']\n",
    "    train_datasets, test_datasets =  load_datasets(hyper_config, problem_config, train=True, val=True)\n",
    "    train_dataset_hf = create_hf_dataset(train_datasets[0])[0]\n",
    "    test_dataset_hf = create_hf_dataset(test_datasets[0])[0]\n",
    "    criteria_texts = train_datasets[0][-1]\n",
    "\n",
    "    save_dict = torch.load(model_path, weights_only=False, map_location=torch.device('cpu'))\n",
    "\n",
    "    if hyper_config['embedder'] == 'frozen_bert':\n",
    "        preprocessor = bert_preprocessing\n",
    "    elif hyper_config['embedder'] == 'bow':\n",
    "        preprocessor = bow_preprocessing\n",
    "    else:\n",
    "        print(f'OOOPS! Embedder {hyper_config[\"embedder\"]} not supported')\n",
    "        preprocessor = bert_preprocessing\n",
    "\n",
    "\n",
    "    criteria_to_head_mapping = problem_config['criteria_to_head_mapping']\n",
    "    model = MultiDomainMultiCriteriaClassifier(\n",
    "                finetune=hyper_config.get('finetune', False),\n",
    "                bert_model_name=hyper_config.get('bert_model_name', None),\n",
    "                embedding_dim = 768,\n",
    "                criteria_to_head_mapping=criteria_to_head_mapping,\n",
    "                output_length=max([len(c_list) for c_list in criteria_to_head_mapping])\n",
    "            )\n",
    "    model.load_state_dict(save_dict)\n",
    "    all_preds, all_labels, all_weights, all_domains = [], [], [], []\n",
    "\n",
    "    test_dataset, test_criteria = preprocessor(test_dataset_hf, criteria_texts, hyper_config, bert=model.bert)\n",
    "\n",
    "    batch_length = len(test_dataset['embedding'])\n",
    "        \n",
    "    for i in range(batch_length):\n",
    "        x = test_dataset_hf['text'][i]\n",
    "        # tokenize and embed with model.bert\n",
    "        tokenizer = transformers.BertTokenizer.from_pretrained(hyper_config['bert_model_name'])\n",
    "        x = tokenizer(x, padding=True, truncation=True, return_tensors='pt')\n",
    "        model.bert.eval()\n",
    "        x = model.bert(**x)\n",
    "        x = x.last_hidden_state[:,0,:]\n",
    "        y = test_dataset['targets'][i]\n",
    "        p = test_dataset['problem_indices'][i]\n",
    "        s = test_dataset['prediction_counts'][i]\n",
    "\n",
    "        criteria_counter = 0\n",
    "        for d in range(num_domains):\n",
    "            num_criteria = problem_config['problems'][p]['domains'][d][\"num_criteria\"]\n",
    "            criteria_indices = criteria_to_head_mapping[p]\n",
    "            for c in range(num_criteria):\n",
    "                head_idx = criteria_indices[criteria_counter]\n",
    "                combined_emb = x + test_criteria[int(p)][criteria_counter]  # Combine embeddings\n",
    "        \n",
    "                y_pred = model.classification_heads[head_idx](combined_emb)\n",
    "                weight = 1/num_criteria\n",
    "\n",
    "                all_preds.append(y_pred.detach().cpu().numpy())\n",
    "                all_labels.append(y[criteria_counter])\n",
    "                all_weights.append(weight)\n",
    "                all_domains.append(d)\n",
    "                criteria_counter += 1\n",
    "\n",
    "    all_preds_np = np.concatenate(all_preds).flatten()\n",
    "    all_labels_np = np.array(all_labels).flatten()\n",
    "    all_labels = torch.tensor(np.array(all_labels)).squeeze()\n",
    "    all_preds = torch.tensor(all_preds).squeeze()\n",
    "\n",
    "    domain_auprc = bootstrap_metric_across_domains(all_labels, all_preds, average_precision_score, all_domains)\n",
    "    micro_auprc, micro_auprc_low, micro_auprc_high, micro_auprc_scores = bootstrap_metric(all_labels, all_preds, average_precision_score)\n",
    "    domain_auroc = bootstrap_metric_across_domains(all_labels, all_preds, roc_auc_score, all_domains)\n",
    "    micro_auroc, micro_auroc_low, micro_auroc_high, micro_auroc_scores = bootstrap_metric(all_labels, all_preds, roc_auc_score)\n",
    "    all_micros.append((micro_auroc, (micro_auroc_low, micro_auroc_high)))\n",
    "    all_micro_auprcs.append((micro_auprc, (micro_auprc_low, micro_auprc_high)))\n",
    "    results = [(domain_auroc[d]['mean'], domain_auroc[d]['error']) for d in range(8)]\n",
    "    auprcs = [(domain_auprc[d]['mean'], domain_auprc[d]['error']) for d in range(8)]\n",
    "\n",
    "    all_results.append(results)\n",
    "    all_auprcs.append(auprcs)\n",
    "    all_bootstraps.append(micro_auroc_scores)\n",
    "    all_bootstrap_auprcs.append(micro_auprc_scores)\n",
    "    pred_collection.append(all_preds)\n",
    "    label_collection.append(all_labels)\n",
    "\n"
   ]
  },
  {
   "cell_type": "code",
   "execution_count": 4,
   "metadata": {},
   "outputs": [
    {
     "ename": "NameError",
     "evalue": "name 'all_micros' is not defined",
     "output_type": "error",
     "traceback": [
      "\u001b[0;31m---------------------------------------------------------------------------\u001b[0m",
      "\u001b[0;31mNameError\u001b[0m                                 Traceback (most recent call last)",
      "Cell \u001b[0;32mIn[4], line 1\u001b[0m\n\u001b[0;32m----> 1\u001b[0m \u001b[38;5;28;01mfor\u001b[39;00m name, (mean, (low, high)) \u001b[38;5;129;01min\u001b[39;00m \u001b[38;5;28mzip\u001b[39m([\u001b[38;5;124m'\u001b[39m\u001b[38;5;124mbow\u001b[39m\u001b[38;5;124m'\u001b[39m, \u001b[38;5;124m'\u001b[39m\u001b[38;5;124mfrozen\u001b[39m\u001b[38;5;124m'\u001b[39m, \u001b[38;5;124m'\u001b[39m\u001b[38;5;124mfinetune\u001b[39m\u001b[38;5;124m'\u001b[39m], \u001b[43mall_micros\u001b[49m):\n\u001b[1;32m      2\u001b[0m     \u001b[38;5;28mprint\u001b[39m(\u001b[38;5;124mf\u001b[39m\u001b[38;5;124m'\u001b[39m\u001b[38;5;132;01m{\u001b[39;00mname\u001b[38;5;132;01m}\u001b[39;00m\u001b[38;5;124m micro auroc: \u001b[39m\u001b[38;5;132;01m{\u001b[39;00mmean\u001b[38;5;241m.\u001b[39mitem()\u001b[38;5;132;01m:\u001b[39;00m\u001b[38;5;124m.3f\u001b[39m\u001b[38;5;132;01m}\u001b[39;00m\u001b[38;5;124m CI \u001b[39m\u001b[38;5;132;01m{\u001b[39;00mlow\u001b[38;5;241m.\u001b[39mitem()\u001b[38;5;132;01m:\u001b[39;00m\u001b[38;5;124m.3f\u001b[39m\u001b[38;5;132;01m}\u001b[39;00m\u001b[38;5;124m, \u001b[39m\u001b[38;5;132;01m{\u001b[39;00mhigh\u001b[38;5;241m.\u001b[39mitem()\u001b[38;5;132;01m:\u001b[39;00m\u001b[38;5;124m.3f\u001b[39m\u001b[38;5;132;01m}\u001b[39;00m\u001b[38;5;124m'\u001b[39m)\n",
      "\u001b[0;31mNameError\u001b[0m: name 'all_micros' is not defined"
     ]
    }
   ],
   "source": [
    "for name, (mean, (low, high)) in zip(['bow', 'frozen', 'finetune'], all_micros):\n",
    "    print(f'{name} micro auroc: {mean.item():.3f} CI {low.item():.3f}, {high.item():.3f}')"
   ]
  },
  {
   "cell_type": "code",
   "execution_count": 14,
   "metadata": {},
   "outputs": [
    {
     "name": "stdout",
     "output_type": "stream",
     "text": [
      "bow micro auprc: 0.831 CI 0.788, 0.870\n",
      "frozen micro auprc: 0.881 CI 0.846, 0.911\n",
      "finetune micro auprc: 0.896 CI 0.863, 0.927\n"
     ]
    }
   ],
   "source": [
    "for name, (mean, (low, high)) in zip(['bow', 'frozen', 'finetune'], all_micro_auprcs):\n",
    "    print(f'{name} micro auprc: {mean.item():.3f} CI {low.item():.3f}, {high.item():.3f}')"
   ]
  },
  {
   "cell_type": "code",
   "execution_count": 25,
   "metadata": {},
   "outputs": [
    {
     "data": {
      "text/plain": [
       "[[(tensor([0.9721]), (tensor([0.9406]), tensor([0.9918]))),\n",
       "  (tensor([0.7911]), (tensor([0.5899]), tensor([0.9264]))),\n",
       "  (tensor([0.2404]), (tensor([0.]), tensor([0.5003]))),\n",
       "  (tensor([0.6160]), (tensor([0.4582]), tensor([0.7613]))),\n",
       "  (tensor([0.7486]), (tensor([0.6453]), tensor([0.8325]))),\n",
       "  (tensor([0.8373]), (tensor([0.6956]), tensor([0.9319]))),\n",
       "  (tensor([0.8725]), (tensor([0.6851]), tensor([0.9832]))),\n",
       "  (tensor([0.7108]), (tensor([0.4418]), tensor([0.9077])))],\n",
       " [(tensor([0.9927]), (tensor([0.9826]), tensor([0.9990]))),\n",
       "  (tensor([0.8309]), (tensor([0.6356]), tensor([0.9709]))),\n",
       "  (tensor([0.8570]), (tensor([0.]), tensor([1.]))),\n",
       "  (tensor([0.7143]), (tensor([0.5643]), tensor([0.8489]))),\n",
       "  (tensor([0.8310]), (tensor([0.7413]), tensor([0.9057]))),\n",
       "  (tensor([0.8092]), (tensor([0.6591]), tensor([0.9086]))),\n",
       "  (tensor([0.9804]), (tensor([0.9250]), tensor([1.]))),\n",
       "  (tensor([0.8107]), (tensor([0.5751]), tensor([0.9481])))],\n",
       " [(tensor([0.9805]), (tensor([0.9510]), tensor([0.9984]))),\n",
       "  (tensor([0.8995]), (tensor([0.7221]), tensor([1.]))),\n",
       "  (tensor([0.3374]), (tensor([0.]), tensor([0.7056]))),\n",
       "  (tensor([0.7511]), (tensor([0.6146]), tensor([0.8691]))),\n",
       "  (tensor([0.8457]), (tensor([0.7589]), tensor([0.9172]))),\n",
       "  (tensor([0.9039]), (tensor([0.8047]), tensor([0.9676]))),\n",
       "  (tensor([0.9777]), (tensor([0.9190]), tensor([1.]))),\n",
       "  (tensor([0.7129]), (tensor([0.4247]), tensor([0.9122])))]]"
      ]
     },
     "execution_count": 25,
     "metadata": {},
     "output_type": "execute_result"
    }
   ],
   "source": [
    "all_auprcs"
   ]
  },
  {
   "cell_type": "code",
   "execution_count": 20,
   "metadata": {},
   "outputs": [],
   "source": [
    "fine_results = all_results[2]\n",
    "bow_results = all_results[0]\n",
    "frozen_results = all_results[1]\n",
    "\n",
    "fine_bootstraps = all_bootstraps[2]\n",
    "bow_bootstraps = all_bootstraps[0]\n",
    "frozen_bootstraps = all_bootstraps[1]\n",
    "\n",
    "# convert all tensors to scalars\n",
    "fine_results = [(mean.item(), (low.item(), high.item())) for mean, (low, high) in fine_results]\n",
    "bow_results = [(mean.item(), (low.item(), high.item())) for mean, (low, high) in bow_results]\n",
    "frozen_results = [(mean.item(), (low.item(), high.item())) for mean, (low, high) in frozen_results]"
   ]
  },
  {
   "cell_type": "code",
   "execution_count": 10,
   "metadata": {},
   "outputs": [],
   "source": [
    "fine_results = all_auprcs[2]\n",
    "bow_results = all_auprcs[0]\n",
    "frozen_results = all_auprcs[1]\n",
    "\n",
    "fine_bootstraps = all_bootstrap_auprcs[2]\n",
    "bow_bootstraps = all_bootstrap_auprcs[0]\n",
    "frozen_bootstraps = all_bootstrap_auprcs[1]\n",
    "\n",
    "# convert all tensors to scalars\n",
    "fine_results = [(mean.item(), (low.item(), high.item())) for mean, (low, high) in fine_results]\n",
    "bow_results = [(mean.item(), (low.item(), high.item())) for mean, (low, high) in bow_results]\n",
    "frozen_results = [(mean.item(), (low.item(), high.item())) for mean, (low, high) in frozen_results]"
   ]
  },
  {
   "cell_type": "code",
   "execution_count": 16,
   "metadata": {},
   "outputs": [
    {
     "name": "stdout",
     "output_type": "stream",
     "text": [
      "{0: 0.7809523940086365, 1: 0.3333333432674408, 2: 0.20000000298023224, 3: 0.32380953431129456, 4: 0.3799999952316284, 5: 0.3733333349227905, 6: 0.5333333611488342, 7: 0.2666666805744171}\n"
     ]
    }
   ],
   "source": [
    "unique_domains = np.unique(all_domains)\n",
    "domain_averages = {domain: label_collection[0][np.array(all_domains) == domain].float().mean().item() for domain in unique_domains}\n",
    "\n",
    "print(domain_averages)\n",
    "domain_averages = [domain_averages[domain] for domain in range(8)]"
   ]
  },
  {
   "cell_type": "code",
   "execution_count": 17,
   "metadata": {},
   "outputs": [
    {
     "data": {
      "image/png": "[encoded data removed]",
      "text/plain": [
       "<Figure size 1100x300 with 1 Axes>"
      ]
     },
     "metadata": {},
     "output_type": "display_data"
    },
    {
     "data": {
      "image/png": "[encoded data removed]",
      "text/plain": [
       "<Figure size 1000x600 with 2 Axes>"
      ]
     },
     "metadata": {},
     "output_type": "display_data"
    }
   ],
   "source": [
    "import matplotlib.pyplot as plt\n",
    "import seaborn as sns\n",
    "\n",
    "def plot_grouped_bar_chart(list1, list2, list3, baseline=None):\n",
    "    plt.rcParams['font.family'] = 'Serif'\n",
    "\n",
    "    # Extract means and error bars\n",
    "    means1, lows1, highs1 = zip(*[(mean, low, high) for mean, (low, high) in list1])\n",
    "    means2, lows2, highs2 = zip(*[(mean, low, high) for mean, (low, high) in list2])\n",
    "    means3, lows3, highs3 = zip(*[(mean, low, high) for mean, (low, high) in list3])\n",
    "\n",
    "    # Calculate error bars\n",
    "    errors1 = [np.array(means1) - np.array(lows1), np.array(highs1) - np.array(means1)]\n",
    "    errors2 = [np.array(means2) - np.array(lows2), np.array(highs2) - np.array(means2)]\n",
    "    errors3 = [np.array(means3) - np.array(lows3), np.array(highs3) - np.array(means3)]\n",
    "\n",
    "    # X locations for the groups\n",
    "    ind = np.arange(len(means1))\n",
    "    width = 0.2\n",
    "\n",
    "    fig, ax = plt.subplots()\n",
    "    # make figure 8 in wide and 3 in tall\n",
    "    fig.set_size_inches(11, 3)\n",
    "\n",
    "    # Plot bars with error bars\n",
    "    bar1 = ax.bar(ind - width, means1, width, yerr=errors1, label=r'$\\mathtt{BoW}$', capsize=5, color='#fed976')\n",
    "    bar2 = ax.bar(ind, means2, width, yerr=errors2, label=r'$\\mathtt{BERTfrozen}$', capsize=5, color='#feb24c')\n",
    "    bar3 = ax.bar(ind + width, means3, width, yerr=errors3, label=r'$\\mathtt{BERTfinetuned}$', capsize=5, color='#fd8d3c')\n",
    "    if baseline is not None:\n",
    "        ax.bar(ind + 2 * width, baseline, width, label='Baseline', color='grey')\n",
    "\n",
    "    # Add labels and title\n",
    "    ax.set_ylabel('AUPRC')\n",
    "    ax.set_title('Per-domain AUPRC')\n",
    "    ax.set_xticks(ind)\n",
    "    ax.set_xticklabels(['Objects', 'Influences', 'Properties', 'Positioning', 'Movements', 'Interactions', 'Descriptive Relationships', 'Mechanistic Relationships'])\n",
    "    ax.legend(bbox_to_anchor=(.1, -.35), loc=\"lower left\",\n",
    "                bbox_transform=fig.transFigure, ncol=1)\n",
    "\n",
    "    # Rotate x tick labels\n",
    "    ax.tick_params(axis='x', rotation=20,)\n",
    "    # horizontal align tick labels right\n",
    "    plt.xticks(ha='right')\n",
    "    \n",
    "    plt.savefig('PerDomainBarChartAUROC.pdf', bbox_inches='tight')\n",
    "    plt.show()\n",
    "\n",
    "def plot_heatmap(list1, list2, list3):\n",
    "    # Extract means\n",
    "    means1 = [mean for mean, _ in list1]\n",
    "    means2 = [mean for mean, _ in list2]\n",
    "    means3 = [mean for mean, _ in list3]\n",
    "\n",
    "    # Combine means into a single array\n",
    "    data = np.array([means1, means2, means3])\n",
    "\n",
    "    # Create the heatmap\n",
    "    fig, ax = plt.subplots(figsize=(10, 6))\n",
    "    sns.heatmap(data, annot=True, fmt=\".2f\", cmap=\"RdYlGn\", cbar=True, xticklabels=['Objects', 'Influences', 'Properties', 'Positioning', 'Movements', 'Interactions', 'Descriptive Relationships', 'Mechanistic Relationships'], yticklabels=['Bag of Words', 'Pretrained BERT', 'Flexible BERT'], ax=ax)\n",
    "\n",
    "    # Add labels and title\n",
    "    ax.set_xlabel('Group')\n",
    "    ax.set_ylabel('Model')\n",
    "    ax.set_title('Heatmap of AUPRC per model')\n",
    "\n",
    "    plt.show()\n",
    "\n",
    "# Plot the chart\n",
    "plot_grouped_bar_chart(bow_results, frozen_results, fine_results, domain_averages)\n",
    "plot_heatmap(bow_results, frozen_results, fine_results)\n"
   ]
  },
  {
   "cell_type": "code",
   "execution_count": 21,
   "metadata": {},
   "outputs": [
    {
     "name": "stdout",
     "output_type": "stream",
     "text": [
      "Average (95CI), Finetune - Frozen 0.026 (0.005, 0.045)\n",
      "Average (95CI), Finetune - Bow 0.077 (0.051, 0.104)\n",
      "Average (95CI), Frozen - Bow 0.051 (0.024, 0.079)\n"
     ]
    }
   ],
   "source": [
    "fine_minus_frozen = fine_bootstraps - frozen_bootstraps\n",
    "fine_minus_bow = fine_bootstraps - bow_bootstraps\n",
    "frozen_minus_bow = frozen_bootstraps - bow_bootstraps\n",
    "\n",
    "print(f'Average (95CI), Finetune - Frozen {fine_minus_frozen.mean().item():.3f} ({fine_minus_frozen.quantile(0.025).item():.3f}, {fine_minus_frozen.quantile(0.975).item():.3f})')\n",
    "print(f'Average (95CI), Finetune - Bow {fine_minus_bow.mean().item():.3f} ({fine_minus_bow.quantile(0.025).item():.3f}, {fine_minus_bow.quantile(0.975).item():.3f})')\n",
    "print(f'Average (95CI), Frozen - Bow {frozen_minus_bow.mean().item():.3f} ({frozen_minus_bow.quantile(0.025).item():.3f}, {frozen_minus_bow.quantile(0.975).item():.3f})')"
   ]
  },
  {
   "cell_type": "code",
   "execution_count": 15,
   "metadata": {},
   "outputs": [
    {
     "name": "stdout",
     "output_type": "stream",
     "text": [
      "Fine-tuned model confusion matrix\n",
      "[[276  47]\n",
      " [ 42 205]]\n",
      "Frozen model confusion matrix\n",
      "[[278  45]\n",
      " [ 67 180]]\n",
      "BoW model confusion matrix\n",
      "[[261  62]\n",
      " [ 70 177]]\n"
     ]
    }
   ],
   "source": [
    "# for each set of labels and preds, calculate the confusion matrix\n",
    "from sklearn.metrics import confusion_matrix\n",
    "\n",
    "fine_preds = pred_collection[2]\n",
    "fine_labels = label_collection[2]\n",
    "frozen_preds = pred_collection[1]\n",
    "frozen_labels = label_collection[1]\n",
    "bow_preds = pred_collection[0]\n",
    "bow_labels = label_collection[0]\n",
    "\n",
    "# threshold preds at 0.5, convert from tensor\n",
    "fine_preds = (fine_preds > 0.5).numpy().astype(int)\n",
    "frozen_preds = (frozen_preds > 0.5).numpy().astype(int)\n",
    "bow_preds = (bow_preds > 0.5).numpy().astype(int)\n",
    "\n",
    "fine_confusion = confusion_matrix(fine_labels, fine_preds)\n",
    "frozen_confusion = confusion_matrix(frozen_labels, frozen_preds)\n",
    "bow_confusion = confusion_matrix(bow_labels, bow_preds)\n",
    "\n",
    "print(f'Fine-tuned model confusion matrix\\n{fine_confusion}')\n",
    "print(f'Frozen model confusion matrix\\n{frozen_confusion}')\n",
    "print(f'BoW model confusion matrix\\n{bow_confusion}')"
   ]
  },
  {
   "cell_type": "code",
   "execution_count": null,
   "metadata": {},
   "outputs": [],
   "source": []
  }
 ],
 "metadata": {
  "kernelspec": {
   "display_name": "learningarmy",
   "language": "python",
   "name": "python3"
  },
  "language_info": {
   "codemirror_mode": {
    "name": "ipython",
    "version": 3
   },
   "file_extension": ".py",
   "mimetype": "text/x-python",
   "name": "python",
   "nbconvert_exporter": "python",
   "pygments_lexer": "ipython3",
   "version": "3.11.11"
  }
 },
 "nbformat": 4,
 "nbformat_minor": 2
}
