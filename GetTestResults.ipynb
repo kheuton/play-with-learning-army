{
 "cells": [
  {
   "cell_type": "code",
   "execution_count": 1,
   "metadata": {},
   "outputs": [],
   "source": [
    "%load_ext autoreload\n",
    "%autoreload 2\n",
    "\n",
    "# add src to path\n",
    "import sys\n",
    "sys.path.append('/cluster/home/kheuto01/code/play-with-learning-army/src')\n",
    "import numpy as np\n",
    "# change directory to this files directory\n",
    "import os\n",
    "os.chdir('/cluster/home/kheuto01/code/play-with-learning-army')\n",
    "from data_loader import load_processed, make_dataset, load_datasets\n",
    "from embedder_registry import initialize_embedding, initialize_criteria_embedding, initialize_combiner\n",
    "from domain_models import initialize_domain_models\n",
    "from loss_opt import initialize_loss, initialize_optimizer\n",
    "import torch\n",
    "import yaml\n",
    "import transformers\n",
    "from sklearn.metrics import accuracy_score, precision_recall_fscore_support, roc_auc_score, average_precision_score"
   ]
  },
  {
   "cell_type": "code",
   "execution_count": 2,
   "metadata": {},
   "outputs": [],
   "source": [
    "def bootstrap_metric_across_domains(y_pred, y_true, metric_func, domain_ids):\n",
    "    domain_metrics = {}\n",
    "    unique_domains = np.unique(domain_ids)\n",
    "    print(unique_domains)\n",
    "    for d in unique_domains:\n",
    "        d_idx = np.where(domain_ids == d)[0]\n",
    "        domain_metrics[d] = {}\n",
    "        mean,low,high,domain_metrics[d]['bootstrap_scores'] = bootstrap_metric(y_pred[d_idx], y_true[d_idx], metric_func)\n",
    "        domain_metrics[d]['mean'] = mean\n",
    "        domain_metrics[d]['error'] =(low,high)\n",
    "    return domain_metrics\n",
    "\n",
    "#https://github.com/tufts-ml/SupContrast/blob/tmlr/bootstrap_lin_acc.py\n",
    "def bootstrap_metric(y_pred, y_true, metric_func,\n",
    "                     n_bootstraps=1000, rng_seed=123):\n",
    "    \"\"\"Compute test set boostrapping of a metric\n",
    "    Args:\n",
    "        y_pred (tensor): Model predictions for some output y\n",
    "        y_true (tensor): True value of output y\n",
    "        metric_func (function): function with parameters (y_pred, y_true)\n",
    "                                returning a Tensor castable metric\n",
    "        n_bootstraps (int, optional): Number of bootstrap samples to take.\n",
    "                                      Defaults to 200.\n",
    "        rng_seed (int, optional): Random seed for reproducibility.\n",
    "                                  Defaults to 123.\n",
    "    Returns:\n",
    "        tuple: metric_mean: Tensor with bootstrapped mean of metric\n",
    "               ci_low: Low value from 95% confidence interval\n",
    "               ci_high: High value from 95% confidence interval\n",
    "               b_scores: Bootstrapped metric outputs\n",
    "    \"\"\"\n",
    "    b_scores = None\n",
    "    rng = torch.random.manual_seed(rng_seed)\n",
    "    # bootstrap\n",
    "    for _ in range(n_bootstraps):\n",
    "        sample_idx = torch.randint(y_pred.shape[0], size=(y_pred.shape[0],), generator=rng)\n",
    "        score = torch.Tensor([metric_func(y_pred[sample_idx], y_true[sample_idx])])\n",
    "        # store results from each run along axis 0, with other axes' shape determined by metric\n",
    "        if b_scores is None:\n",
    "            b_scores = score.unsqueeze(0)\n",
    "        else:\n",
    "            b_scores = torch.vstack((b_scores, score))\n",
    "    # compute mean and confidence interval\n",
    "    metric_mean = torch.mean(b_scores, dim=0)\n",
    "    ci_low = torch.quantile(b_scores, 0.025, dim=0)\n",
    "    ci_high = torch.quantile(b_scores, 0.975, dim=0)\n",
    "    return (metric_mean, ci_low, ci_high, b_scores)\n",
    "\n",
    "\n",
    "def bootstrap_dif(b_scores_1, b_scores_2):\n",
    "    \"\"\"Examine the difference of two bootstrapped metrics\n",
    "\n",
    "    Args:\n",
    "        b_scores_1 (Tensor): Bootstrapped metric outputs, with same seed as 2\n",
    "        b_scores_2 (Tensor): Bootstrapped metric outputs, with same seed as 1\n",
    "    Returns:\n",
    "        tensor: True if 95% CI does not contain 0 so result is statistically significant\n",
    "                False if 95% CI contains 0 so result is not statistically significant\n",
    "    \"\"\"\n",
    "    dif_scores = b_scores_1 - b_scores_2\n",
    "    # compute confidence interval of the difference\n",
    "    ci_low = torch.quantile(dif_scores, 0.025, dim=0)\n",
    "    ci_high = torch.quantile(dif_scores, 0.975, dim=0)\n",
    "    return ~torch.logical_and(ci_low <= 0, ci_high >= 0)"
   ]
  },
  {
   "cell_type": "code",
   "execution_count": 3,
   "metadata": {},
   "outputs": [],
   "source": [
    "hyper_config_mine_15 = yaml.load(open('/cluster/tufts/hugheslab/kheuto01/sensemaking/bertfinetune_test/test15_lr5e-07_alpha0.001_beta0.1/config.yaml', 'r'), Loader=yaml.FullLoader)\n",
    "hyper_config_mine_20 = yaml.load(open('/cluster/tufts/hugheslab/kheuto01/sensemaking/bertfinetune_test/test20_lr5e-07_alpha0.01_beta0.01/config.yaml', 'r'), Loader=yaml.FullLoader)"
   ]
  },
  {
   "cell_type": "code",
   "execution_count": 4,
   "metadata": {},
   "outputs": [
    {
     "name": "stderr",
     "output_type": "stream",
     "text": [
      "/tmp/ipykernel_41886/1546165309.py:75: UserWarning: Creating a tensor from a list of numpy.ndarrays is extremely slow. Please consider converting the list to a single numpy.ndarray with numpy.array() before converting to a tensor. (Triggered internally at /pytorch/torch/csrc/utils/tensor_new.cpp:254.)\n",
      "  all_preds = torch.tensor(all_preds).squeeze()\n"
     ]
    },
    {
     "name": "stdout",
     "output_type": "stream",
     "text": [
      "[0 1 2 3 4 5 6 7]\n"
     ]
    },
    {
     "name": "stderr",
     "output_type": "stream",
     "text": [
      "/cluster/tufts/hugheslab/kheuto01/mambaforge/envs/learningarmy/lib/python3.11/site-packages/sklearn/metrics/_ranking.py:1033: UserWarning: No positive class found in y_true, recall is set to one for all thresholds.\n",
      "  warnings.warn(\n",
      "/cluster/tufts/hugheslab/kheuto01/mambaforge/envs/learningarmy/lib/python3.11/site-packages/sklearn/metrics/_ranking.py:1033: UserWarning: No positive class found in y_true, recall is set to one for all thresholds.\n",
      "  warnings.warn(\n",
      "/cluster/tufts/hugheslab/kheuto01/mambaforge/envs/learningarmy/lib/python3.11/site-packages/sklearn/metrics/_ranking.py:1033: UserWarning: No positive class found in y_true, recall is set to one for all thresholds.\n",
      "  warnings.warn(\n",
      "/cluster/tufts/hugheslab/kheuto01/mambaforge/envs/learningarmy/lib/python3.11/site-packages/sklearn/metrics/_ranking.py:1033: UserWarning: No positive class found in y_true, recall is set to one for all thresholds.\n",
      "  warnings.warn(\n",
      "/cluster/tufts/hugheslab/kheuto01/mambaforge/envs/learningarmy/lib/python3.11/site-packages/sklearn/metrics/_ranking.py:1033: UserWarning: No positive class found in y_true, recall is set to one for all thresholds.\n",
      "  warnings.warn(\n",
      "/cluster/tufts/hugheslab/kheuto01/mambaforge/envs/learningarmy/lib/python3.11/site-packages/sklearn/metrics/_ranking.py:1033: UserWarning: No positive class found in y_true, recall is set to one for all thresholds.\n",
      "  warnings.warn(\n",
      "/cluster/tufts/hugheslab/kheuto01/mambaforge/envs/learningarmy/lib/python3.11/site-packages/sklearn/metrics/_ranking.py:1033: UserWarning: No positive class found in y_true, recall is set to one for all thresholds.\n",
      "  warnings.warn(\n",
      "/cluster/tufts/hugheslab/kheuto01/mambaforge/envs/learningarmy/lib/python3.11/site-packages/sklearn/metrics/_ranking.py:1033: UserWarning: No positive class found in y_true, recall is set to one for all thresholds.\n",
      "  warnings.warn(\n",
      "/cluster/tufts/hugheslab/kheuto01/mambaforge/envs/learningarmy/lib/python3.11/site-packages/sklearn/metrics/_ranking.py:1033: UserWarning: No positive class found in y_true, recall is set to one for all thresholds.\n",
      "  warnings.warn(\n",
      "/cluster/tufts/hugheslab/kheuto01/mambaforge/envs/learningarmy/lib/python3.11/site-packages/sklearn/metrics/_ranking.py:1033: UserWarning: No positive class found in y_true, recall is set to one for all thresholds.\n",
      "  warnings.warn(\n",
      "/cluster/tufts/hugheslab/kheuto01/mambaforge/envs/learningarmy/lib/python3.11/site-packages/sklearn/metrics/_ranking.py:1033: UserWarning: No positive class found in y_true, recall is set to one for all thresholds.\n",
      "  warnings.warn(\n",
      "/cluster/tufts/hugheslab/kheuto01/mambaforge/envs/learningarmy/lib/python3.11/site-packages/sklearn/metrics/_ranking.py:1033: UserWarning: No positive class found in y_true, recall is set to one for all thresholds.\n",
      "  warnings.warn(\n",
      "/cluster/tufts/hugheslab/kheuto01/mambaforge/envs/learningarmy/lib/python3.11/site-packages/sklearn/metrics/_ranking.py:1033: UserWarning: No positive class found in y_true, recall is set to one for all thresholds.\n",
      "  warnings.warn(\n",
      "/cluster/tufts/hugheslab/kheuto01/mambaforge/envs/learningarmy/lib/python3.11/site-packages/sklearn/metrics/_ranking.py:1033: UserWarning: No positive class found in y_true, recall is set to one for all thresholds.\n",
      "  warnings.warn(\n",
      "/cluster/tufts/hugheslab/kheuto01/mambaforge/envs/learningarmy/lib/python3.11/site-packages/sklearn/metrics/_ranking.py:1033: UserWarning: No positive class found in y_true, recall is set to one for all thresholds.\n",
      "  warnings.warn(\n",
      "/cluster/tufts/hugheslab/kheuto01/mambaforge/envs/learningarmy/lib/python3.11/site-packages/sklearn/metrics/_ranking.py:1033: UserWarning: No positive class found in y_true, recall is set to one for all thresholds.\n",
      "  warnings.warn(\n",
      "/cluster/tufts/hugheslab/kheuto01/mambaforge/envs/learningarmy/lib/python3.11/site-packages/sklearn/metrics/_ranking.py:1033: UserWarning: No positive class found in y_true, recall is set to one for all thresholds.\n",
      "  warnings.warn(\n",
      "/cluster/tufts/hugheslab/kheuto01/mambaforge/envs/learningarmy/lib/python3.11/site-packages/sklearn/metrics/_ranking.py:1033: UserWarning: No positive class found in y_true, recall is set to one for all thresholds.\n",
      "  warnings.warn(\n",
      "/cluster/tufts/hugheslab/kheuto01/mambaforge/envs/learningarmy/lib/python3.11/site-packages/sklearn/metrics/_ranking.py:1033: UserWarning: No positive class found in y_true, recall is set to one for all thresholds.\n",
      "  warnings.warn(\n",
      "/cluster/tufts/hugheslab/kheuto01/mambaforge/envs/learningarmy/lib/python3.11/site-packages/sklearn/metrics/_ranking.py:1033: UserWarning: No positive class found in y_true, recall is set to one for all thresholds.\n",
      "  warnings.warn(\n",
      "/cluster/tufts/hugheslab/kheuto01/mambaforge/envs/learningarmy/lib/python3.11/site-packages/sklearn/metrics/_ranking.py:1033: UserWarning: No positive class found in y_true, recall is set to one for all thresholds.\n",
      "  warnings.warn(\n",
      "/cluster/tufts/hugheslab/kheuto01/mambaforge/envs/learningarmy/lib/python3.11/site-packages/sklearn/metrics/_ranking.py:1033: UserWarning: No positive class found in y_true, recall is set to one for all thresholds.\n",
      "  warnings.warn(\n",
      "/cluster/tufts/hugheslab/kheuto01/mambaforge/envs/learningarmy/lib/python3.11/site-packages/sklearn/metrics/_ranking.py:1033: UserWarning: No positive class found in y_true, recall is set to one for all thresholds.\n",
      "  warnings.warn(\n",
      "/cluster/tufts/hugheslab/kheuto01/mambaforge/envs/learningarmy/lib/python3.11/site-packages/sklearn/metrics/_ranking.py:1033: UserWarning: No positive class found in y_true, recall is set to one for all thresholds.\n",
      "  warnings.warn(\n",
      "/cluster/tufts/hugheslab/kheuto01/mambaforge/envs/learningarmy/lib/python3.11/site-packages/sklearn/metrics/_ranking.py:1033: UserWarning: No positive class found in y_true, recall is set to one for all thresholds.\n",
      "  warnings.warn(\n",
      "/cluster/tufts/hugheslab/kheuto01/mambaforge/envs/learningarmy/lib/python3.11/site-packages/sklearn/metrics/_ranking.py:1033: UserWarning: No positive class found in y_true, recall is set to one for all thresholds.\n",
      "  warnings.warn(\n",
      "/cluster/tufts/hugheslab/kheuto01/mambaforge/envs/learningarmy/lib/python3.11/site-packages/sklearn/metrics/_ranking.py:1033: UserWarning: No positive class found in y_true, recall is set to one for all thresholds.\n",
      "  warnings.warn(\n",
      "/cluster/tufts/hugheslab/kheuto01/mambaforge/envs/learningarmy/lib/python3.11/site-packages/sklearn/metrics/_ranking.py:1033: UserWarning: No positive class found in y_true, recall is set to one for all thresholds.\n",
      "  warnings.warn(\n",
      "/cluster/tufts/hugheslab/kheuto01/mambaforge/envs/learningarmy/lib/python3.11/site-packages/sklearn/metrics/_ranking.py:1033: UserWarning: No positive class found in y_true, recall is set to one for all thresholds.\n",
      "  warnings.warn(\n"
     ]
    },
    {
     "name": "stdout",
     "output_type": "stream",
     "text": [
      "[0 1 2 3 4 5 6 7]\n"
     ]
    },
    {
     "name": "stderr",
     "output_type": "stream",
     "text": [
      "/cluster/tufts/hugheslab/kheuto01/mambaforge/envs/learningarmy/lib/python3.11/site-packages/sklearn/metrics/_ranking.py:1033: UserWarning: No positive class found in y_true, recall is set to one for all thresholds.\n",
      "  warnings.warn(\n",
      "/cluster/tufts/hugheslab/kheuto01/mambaforge/envs/learningarmy/lib/python3.11/site-packages/sklearn/metrics/_ranking.py:1033: UserWarning: No positive class found in y_true, recall is set to one for all thresholds.\n",
      "  warnings.warn(\n",
      "/cluster/tufts/hugheslab/kheuto01/mambaforge/envs/learningarmy/lib/python3.11/site-packages/sklearn/metrics/_ranking.py:1033: UserWarning: No positive class found in y_true, recall is set to one for all thresholds.\n",
      "  warnings.warn(\n",
      "/cluster/tufts/hugheslab/kheuto01/mambaforge/envs/learningarmy/lib/python3.11/site-packages/sklearn/metrics/_ranking.py:1033: UserWarning: No positive class found in y_true, recall is set to one for all thresholds.\n",
      "  warnings.warn(\n",
      "/cluster/tufts/hugheslab/kheuto01/mambaforge/envs/learningarmy/lib/python3.11/site-packages/sklearn/metrics/_ranking.py:1033: UserWarning: No positive class found in y_true, recall is set to one for all thresholds.\n",
      "  warnings.warn(\n",
      "/cluster/tufts/hugheslab/kheuto01/mambaforge/envs/learningarmy/lib/python3.11/site-packages/sklearn/metrics/_ranking.py:1033: UserWarning: No positive class found in y_true, recall is set to one for all thresholds.\n",
      "  warnings.warn(\n",
      "/cluster/tufts/hugheslab/kheuto01/mambaforge/envs/learningarmy/lib/python3.11/site-packages/sklearn/metrics/_ranking.py:1033: UserWarning: No positive class found in y_true, recall is set to one for all thresholds.\n",
      "  warnings.warn(\n",
      "/cluster/tufts/hugheslab/kheuto01/mambaforge/envs/learningarmy/lib/python3.11/site-packages/sklearn/metrics/_ranking.py:1033: UserWarning: No positive class found in y_true, recall is set to one for all thresholds.\n",
      "  warnings.warn(\n",
      "/cluster/tufts/hugheslab/kheuto01/mambaforge/envs/learningarmy/lib/python3.11/site-packages/sklearn/metrics/_ranking.py:1033: UserWarning: No positive class found in y_true, recall is set to one for all thresholds.\n",
      "  warnings.warn(\n",
      "/cluster/tufts/hugheslab/kheuto01/mambaforge/envs/learningarmy/lib/python3.11/site-packages/sklearn/metrics/_ranking.py:1033: UserWarning: No positive class found in y_true, recall is set to one for all thresholds.\n",
      "  warnings.warn(\n",
      "/cluster/tufts/hugheslab/kheuto01/mambaforge/envs/learningarmy/lib/python3.11/site-packages/sklearn/metrics/_ranking.py:1033: UserWarning: No positive class found in y_true, recall is set to one for all thresholds.\n",
      "  warnings.warn(\n",
      "/cluster/tufts/hugheslab/kheuto01/mambaforge/envs/learningarmy/lib/python3.11/site-packages/sklearn/metrics/_ranking.py:1033: UserWarning: No positive class found in y_true, recall is set to one for all thresholds.\n",
      "  warnings.warn(\n",
      "/cluster/tufts/hugheslab/kheuto01/mambaforge/envs/learningarmy/lib/python3.11/site-packages/sklearn/metrics/_ranking.py:1033: UserWarning: No positive class found in y_true, recall is set to one for all thresholds.\n",
      "  warnings.warn(\n",
      "/cluster/tufts/hugheslab/kheuto01/mambaforge/envs/learningarmy/lib/python3.11/site-packages/sklearn/metrics/_ranking.py:1033: UserWarning: No positive class found in y_true, recall is set to one for all thresholds.\n",
      "  warnings.warn(\n",
      "/cluster/tufts/hugheslab/kheuto01/mambaforge/envs/learningarmy/lib/python3.11/site-packages/sklearn/metrics/_ranking.py:1033: UserWarning: No positive class found in y_true, recall is set to one for all thresholds.\n",
      "  warnings.warn(\n",
      "/cluster/tufts/hugheslab/kheuto01/mambaforge/envs/learningarmy/lib/python3.11/site-packages/sklearn/metrics/_ranking.py:1033: UserWarning: No positive class found in y_true, recall is set to one for all thresholds.\n",
      "  warnings.warn(\n",
      "/cluster/tufts/hugheslab/kheuto01/mambaforge/envs/learningarmy/lib/python3.11/site-packages/sklearn/metrics/_ranking.py:1033: UserWarning: No positive class found in y_true, recall is set to one for all thresholds.\n",
      "  warnings.warn(\n",
      "/cluster/tufts/hugheslab/kheuto01/mambaforge/envs/learningarmy/lib/python3.11/site-packages/sklearn/metrics/_ranking.py:1033: UserWarning: No positive class found in y_true, recall is set to one for all thresholds.\n",
      "  warnings.warn(\n",
      "/cluster/tufts/hugheslab/kheuto01/mambaforge/envs/learningarmy/lib/python3.11/site-packages/sklearn/metrics/_ranking.py:1033: UserWarning: No positive class found in y_true, recall is set to one for all thresholds.\n",
      "  warnings.warn(\n",
      "/cluster/tufts/hugheslab/kheuto01/mambaforge/envs/learningarmy/lib/python3.11/site-packages/sklearn/metrics/_ranking.py:1033: UserWarning: No positive class found in y_true, recall is set to one for all thresholds.\n",
      "  warnings.warn(\n",
      "/cluster/tufts/hugheslab/kheuto01/mambaforge/envs/learningarmy/lib/python3.11/site-packages/sklearn/metrics/_ranking.py:1033: UserWarning: No positive class found in y_true, recall is set to one for all thresholds.\n",
      "  warnings.warn(\n",
      "/cluster/tufts/hugheslab/kheuto01/mambaforge/envs/learningarmy/lib/python3.11/site-packages/sklearn/metrics/_ranking.py:1033: UserWarning: No positive class found in y_true, recall is set to one for all thresholds.\n",
      "  warnings.warn(\n",
      "/cluster/tufts/hugheslab/kheuto01/mambaforge/envs/learningarmy/lib/python3.11/site-packages/sklearn/metrics/_ranking.py:1033: UserWarning: No positive class found in y_true, recall is set to one for all thresholds.\n",
      "  warnings.warn(\n",
      "/cluster/tufts/hugheslab/kheuto01/mambaforge/envs/learningarmy/lib/python3.11/site-packages/sklearn/metrics/_ranking.py:1033: UserWarning: No positive class found in y_true, recall is set to one for all thresholds.\n",
      "  warnings.warn(\n",
      "/cluster/tufts/hugheslab/kheuto01/mambaforge/envs/learningarmy/lib/python3.11/site-packages/sklearn/metrics/_ranking.py:1033: UserWarning: No positive class found in y_true, recall is set to one for all thresholds.\n",
      "  warnings.warn(\n",
      "/cluster/tufts/hugheslab/kheuto01/mambaforge/envs/learningarmy/lib/python3.11/site-packages/sklearn/metrics/_ranking.py:1033: UserWarning: No positive class found in y_true, recall is set to one for all thresholds.\n",
      "  warnings.warn(\n",
      "/cluster/tufts/hugheslab/kheuto01/mambaforge/envs/learningarmy/lib/python3.11/site-packages/sklearn/metrics/_ranking.py:1033: UserWarning: No positive class found in y_true, recall is set to one for all thresholds.\n",
      "  warnings.warn(\n",
      "/cluster/tufts/hugheslab/kheuto01/mambaforge/envs/learningarmy/lib/python3.11/site-packages/sklearn/metrics/_ranking.py:1033: UserWarning: No positive class found in y_true, recall is set to one for all thresholds.\n",
      "  warnings.warn(\n",
      "/cluster/tufts/hugheslab/kheuto01/mambaforge/envs/learningarmy/lib/python3.11/site-packages/sklearn/metrics/_ranking.py:1033: UserWarning: No positive class found in y_true, recall is set to one for all thresholds.\n",
      "  warnings.warn(\n"
     ]
    },
    {
     "name": "stdout",
     "output_type": "stream",
     "text": [
      "[0 1 2 3 4 5 6 7]\n"
     ]
    },
    {
     "name": "stderr",
     "output_type": "stream",
     "text": [
      "/cluster/tufts/hugheslab/kheuto01/mambaforge/envs/learningarmy/lib/python3.11/site-packages/sklearn/metrics/_ranking.py:1033: UserWarning: No positive class found in y_true, recall is set to one for all thresholds.\n",
      "  warnings.warn(\n",
      "/cluster/tufts/hugheslab/kheuto01/mambaforge/envs/learningarmy/lib/python3.11/site-packages/sklearn/metrics/_ranking.py:1033: UserWarning: No positive class found in y_true, recall is set to one for all thresholds.\n",
      "  warnings.warn(\n",
      "/cluster/tufts/hugheslab/kheuto01/mambaforge/envs/learningarmy/lib/python3.11/site-packages/sklearn/metrics/_ranking.py:1033: UserWarning: No positive class found in y_true, recall is set to one for all thresholds.\n",
      "  warnings.warn(\n",
      "/cluster/tufts/hugheslab/kheuto01/mambaforge/envs/learningarmy/lib/python3.11/site-packages/sklearn/metrics/_ranking.py:1033: UserWarning: No positive class found in y_true, recall is set to one for all thresholds.\n",
      "  warnings.warn(\n",
      "/cluster/tufts/hugheslab/kheuto01/mambaforge/envs/learningarmy/lib/python3.11/site-packages/sklearn/metrics/_ranking.py:1033: UserWarning: No positive class found in y_true, recall is set to one for all thresholds.\n",
      "  warnings.warn(\n",
      "/cluster/tufts/hugheslab/kheuto01/mambaforge/envs/learningarmy/lib/python3.11/site-packages/sklearn/metrics/_ranking.py:1033: UserWarning: No positive class found in y_true, recall is set to one for all thresholds.\n",
      "  warnings.warn(\n",
      "/cluster/tufts/hugheslab/kheuto01/mambaforge/envs/learningarmy/lib/python3.11/site-packages/sklearn/metrics/_ranking.py:1033: UserWarning: No positive class found in y_true, recall is set to one for all thresholds.\n",
      "  warnings.warn(\n",
      "/cluster/tufts/hugheslab/kheuto01/mambaforge/envs/learningarmy/lib/python3.11/site-packages/sklearn/metrics/_ranking.py:1033: UserWarning: No positive class found in y_true, recall is set to one for all thresholds.\n",
      "  warnings.warn(\n",
      "/cluster/tufts/hugheslab/kheuto01/mambaforge/envs/learningarmy/lib/python3.11/site-packages/sklearn/metrics/_ranking.py:1033: UserWarning: No positive class found in y_true, recall is set to one for all thresholds.\n",
      "  warnings.warn(\n",
      "/cluster/tufts/hugheslab/kheuto01/mambaforge/envs/learningarmy/lib/python3.11/site-packages/sklearn/metrics/_ranking.py:1033: UserWarning: No positive class found in y_true, recall is set to one for all thresholds.\n",
      "  warnings.warn(\n",
      "/cluster/tufts/hugheslab/kheuto01/mambaforge/envs/learningarmy/lib/python3.11/site-packages/sklearn/metrics/_ranking.py:1033: UserWarning: No positive class found in y_true, recall is set to one for all thresholds.\n",
      "  warnings.warn(\n",
      "/cluster/tufts/hugheslab/kheuto01/mambaforge/envs/learningarmy/lib/python3.11/site-packages/sklearn/metrics/_ranking.py:1033: UserWarning: No positive class found in y_true, recall is set to one for all thresholds.\n",
      "  warnings.warn(\n",
      "/cluster/tufts/hugheslab/kheuto01/mambaforge/envs/learningarmy/lib/python3.11/site-packages/sklearn/metrics/_ranking.py:1033: UserWarning: No positive class found in y_true, recall is set to one for all thresholds.\n",
      "  warnings.warn(\n",
      "/cluster/tufts/hugheslab/kheuto01/mambaforge/envs/learningarmy/lib/python3.11/site-packages/sklearn/metrics/_ranking.py:1033: UserWarning: No positive class found in y_true, recall is set to one for all thresholds.\n",
      "  warnings.warn(\n",
      "/cluster/tufts/hugheslab/kheuto01/mambaforge/envs/learningarmy/lib/python3.11/site-packages/sklearn/metrics/_ranking.py:1033: UserWarning: No positive class found in y_true, recall is set to one for all thresholds.\n",
      "  warnings.warn(\n",
      "/cluster/tufts/hugheslab/kheuto01/mambaforge/envs/learningarmy/lib/python3.11/site-packages/sklearn/metrics/_ranking.py:1033: UserWarning: No positive class found in y_true, recall is set to one for all thresholds.\n",
      "  warnings.warn(\n",
      "/cluster/tufts/hugheslab/kheuto01/mambaforge/envs/learningarmy/lib/python3.11/site-packages/sklearn/metrics/_ranking.py:1033: UserWarning: No positive class found in y_true, recall is set to one for all thresholds.\n",
      "  warnings.warn(\n",
      "/cluster/tufts/hugheslab/kheuto01/mambaforge/envs/learningarmy/lib/python3.11/site-packages/sklearn/metrics/_ranking.py:1033: UserWarning: No positive class found in y_true, recall is set to one for all thresholds.\n",
      "  warnings.warn(\n",
      "/cluster/tufts/hugheslab/kheuto01/mambaforge/envs/learningarmy/lib/python3.11/site-packages/sklearn/metrics/_ranking.py:1033: UserWarning: No positive class found in y_true, recall is set to one for all thresholds.\n",
      "  warnings.warn(\n",
      "/cluster/tufts/hugheslab/kheuto01/mambaforge/envs/learningarmy/lib/python3.11/site-packages/sklearn/metrics/_ranking.py:1033: UserWarning: No positive class found in y_true, recall is set to one for all thresholds.\n",
      "  warnings.warn(\n",
      "/cluster/tufts/hugheslab/kheuto01/mambaforge/envs/learningarmy/lib/python3.11/site-packages/sklearn/metrics/_ranking.py:1033: UserWarning: No positive class found in y_true, recall is set to one for all thresholds.\n",
      "  warnings.warn(\n",
      "/cluster/tufts/hugheslab/kheuto01/mambaforge/envs/learningarmy/lib/python3.11/site-packages/sklearn/metrics/_ranking.py:1033: UserWarning: No positive class found in y_true, recall is set to one for all thresholds.\n",
      "  warnings.warn(\n",
      "/cluster/tufts/hugheslab/kheuto01/mambaforge/envs/learningarmy/lib/python3.11/site-packages/sklearn/metrics/_ranking.py:1033: UserWarning: No positive class found in y_true, recall is set to one for all thresholds.\n",
      "  warnings.warn(\n",
      "/cluster/tufts/hugheslab/kheuto01/mambaforge/envs/learningarmy/lib/python3.11/site-packages/sklearn/metrics/_ranking.py:1033: UserWarning: No positive class found in y_true, recall is set to one for all thresholds.\n",
      "  warnings.warn(\n",
      "/cluster/tufts/hugheslab/kheuto01/mambaforge/envs/learningarmy/lib/python3.11/site-packages/sklearn/metrics/_ranking.py:1033: UserWarning: No positive class found in y_true, recall is set to one for all thresholds.\n",
      "  warnings.warn(\n",
      "/cluster/tufts/hugheslab/kheuto01/mambaforge/envs/learningarmy/lib/python3.11/site-packages/sklearn/metrics/_ranking.py:1033: UserWarning: No positive class found in y_true, recall is set to one for all thresholds.\n",
      "  warnings.warn(\n",
      "/cluster/tufts/hugheslab/kheuto01/mambaforge/envs/learningarmy/lib/python3.11/site-packages/sklearn/metrics/_ranking.py:1033: UserWarning: No positive class found in y_true, recall is set to one for all thresholds.\n",
      "  warnings.warn(\n",
      "/cluster/tufts/hugheslab/kheuto01/mambaforge/envs/learningarmy/lib/python3.11/site-packages/sklearn/metrics/_ranking.py:1033: UserWarning: No positive class found in y_true, recall is set to one for all thresholds.\n",
      "  warnings.warn(\n",
      "/cluster/tufts/hugheslab/kheuto01/mambaforge/envs/learningarmy/lib/python3.11/site-packages/sklearn/metrics/_ranking.py:1033: UserWarning: No positive class found in y_true, recall is set to one for all thresholds.\n",
      "  warnings.warn(\n"
     ]
    }
   ],
   "source": [
    "all_results = []\n",
    "all_micros = []\n",
    "all_bootstraps = []\n",
    "best_15_exps = ['/cluster/tufts/hugheslab/kheuto01/sensemaking/bertfinetune_test/test15_lr5e-07_alpha0.001_beta0.1',\n",
    "                             '/cluster/tufts/hugheslab/kheuto01/sensemaking/bow_frozen_test/test15_lr0.001_wd0.001_bs32',\n",
    "                             '/cluster/tufts/hugheslab/kheuto01/sensemaking/bow_frozen_test/test15_lr0.01_wd0.001_bsN']\n",
    "\n",
    "best_20_exps = ['/cluster/tufts/hugheslab/kheuto01/sensemaking/bertfinetune_test/test20_lr5e-07_alpha0.01_beta0.01/',\n",
    "                '/cluster/tufts/hugheslab/kheuto01/sensemaking/bow_frozen_test/test20_lr0.01_wd0.001_bsN/',\n",
    "                '/cluster/tufts/hugheslab/kheuto01/sensemaking/bow_frozen_test/test20_lr0.01_wd0.001_bs128/'\n",
    "                ]\n",
    "\n",
    "for experiment_directory in best_15_exps:\n",
    "\n",
    "    #experiment_directory = '/cluster/tufts/hugheslab/kheuto01/sensemaking/bertfinetune_test/test20_lr5e-07_alpha0.01_beta0.01'\n",
    "    problem_config_path = '/cluster/home/kheuto01/code/play-with-learning-army/config/problem_config.yaml'\n",
    "    test_metrics_path = os.path.join(experiment_directory, 'test_metrics.csv')\n",
    "    config_path = os.path.join(experiment_directory, 'config.yaml')\n",
    "    model_path = os.path.join(experiment_directory, 'final_model.pth')\n",
    "    hyper_config = yaml.load(open(config_path, 'r'), Loader=yaml.FullLoader)\n",
    "    problem_config = yaml.load(open(problem_config_path, 'r'), Loader=yaml.FullLoader)\n",
    "    num_domains = problem_config['num_domains']\n",
    "    train_dataset =  load_datasets(hyper_config_mine_15, train=True)[0]\n",
    "\n",
    "    save_dict = torch.load(model_path, weights_only=False, map_location=torch.device('cpu'))\n",
    "    domain_model_dict = save_dict['domain_model_dict']\n",
    "    if 'embed_func' in save_dict:\n",
    "        embedder = save_dict['embed_func']\n",
    "        embedder.model.eval()\n",
    "    else:\n",
    "        embedder = initialize_embedding(hyper_config, *train_dataset)\n",
    "    embedder.device = 'cpu'\n",
    "\n",
    "    processed_test_features, processed_test_labels = load_processed(hyper_config_mine_15['test_x_file'], \n",
    "                                                                hyper_config_mine_15['test_y_file'])\n",
    "    (xs, ys, problem_ids, student_ids) = make_dataset(processed_test_features, processed_test_labels)\n",
    "    xs, ys, problem_ids, student_ids = embedder.preprocess_data((xs, ys, torch.tensor(problem_ids), torch.tensor(student_ids)), hyper_config)\n",
    "\n",
    "    all_preds, all_labels, all_weights, all_domains = [], [], [], []\n",
    "\n",
    "    if isinstance(xs, transformers.BatchEncoding):\n",
    "        batch_length = len(next(iter(xs.values())))\n",
    "    else:\n",
    "        batch_length = len(xs)\n",
    "        \n",
    "    for i in range(batch_length):\n",
    "        if isinstance(xs, transformers.BatchEncoding):\n",
    "            x = {k: v[i].unsqueeze(0) for k, v in xs.items()}\n",
    "        else:\n",
    "            x = xs[i].unsqueeze(0)\n",
    "        y = ys[i]\n",
    "        p = problem_ids[i]\n",
    "        s = student_ids[i]\n",
    "\n",
    "        x_embed = embedder.forward(x)\n",
    "\n",
    "        criteria_counter = 0\n",
    "        for d in range(num_domains):\n",
    "            num_criteria = problem_config['problems'][p]['domains'][d][\"num_criteria\"]\n",
    "            for c in range(num_criteria):\n",
    "                c_embed = torch.tensor([c])\n",
    "                final_representation = torch.cat((x_embed, c_embed.unsqueeze(0)), dim=1)\n",
    "                y_pred = domain_model_dict[d](final_representation)\n",
    "                weight = 1/num_criteria\n",
    "\n",
    "                all_preds.append(y_pred.detach().cpu().numpy())\n",
    "                all_labels.append(y[criteria_counter].cpu().numpy())\n",
    "                all_weights.append(weight)\n",
    "                all_domains.append(d)\n",
    "                criteria_counter += 1\n",
    "\n",
    "    all_preds_np = np.concatenate(all_preds).flatten()\n",
    "    all_labels_np = np.array(all_labels).flatten()\n",
    "    all_labels = torch.tensor(np.array(all_labels)).squeeze()\n",
    "    all_preds = torch.tensor(all_preds).squeeze()\n",
    "\n",
    "    domain_auprc = bootstrap_metric_across_domains(all_labels, all_preds, average_precision_score, all_domains)\n",
    "    micro_auprc, micro_auprc_low, micro_auprc_high, micro_auprc_scores = bootstrap_metric(all_labels, all_preds, average_precision_score)\n",
    "    all_micros.append((micro_auprc, (micro_auprc_low, micro_auprc_high)))\n",
    "    results = [(domain_auprc[d]['mean'], domain_auprc[d]['error']) for d in range(8)]\n",
    "\n",
    "    all_results.append(results)\n",
    "    all_bootstraps.append(micro_auprc_scores)\n"
   ]
  },
  {
   "cell_type": "code",
   "execution_count": 5,
   "metadata": {},
   "outputs": [
    {
     "name": "stdout",
     "output_type": "stream",
     "text": [
      "finetune micro auprc: 0.872 CI 0.836, 0.905\n",
      "bow micro auprc: 0.829 CI 0.786, 0.869\n",
      "frozen micro auprc: 0.858 CI 0.817, 0.894\n"
     ]
    }
   ],
   "source": [
    "for name, (mean, (low, high)) in zip(['finetune', 'bow', 'frozen'], all_micros):\n",
    "    print(f'{name} micro auprc: {mean.item():.3f} CI {low.item():.3f}, {high.item():.3f}')"
   ]
  },
  {
   "cell_type": "code",
   "execution_count": 6,
   "metadata": {},
   "outputs": [
    {
     "name": "stdout",
     "output_type": "stream",
     "text": [
      "finetune micro auprc: 0.872 CI 0.836, 0.905\n",
      "bow micro auprc: 0.829 CI 0.786, 0.869\n",
      "frozen micro auprc: 0.858 CI 0.817, 0.894\n"
     ]
    }
   ],
   "source": [
    "for name, (mean, (low, high)) in zip(['finetune', 'bow', 'frozen'], all_micros):\n",
    "    print(f'{name} micro auprc: {mean.item():.3f} CI {low.item():.3f}, {high.item():.3f}')"
   ]
  },
  {
   "cell_type": "code",
   "execution_count": 7,
   "metadata": {},
   "outputs": [],
   "source": [
    "fine_results = all_results[0]\n",
    "bow_results = all_results[1]\n",
    "frozen_results = all_results[2]\n",
    "\n",
    "fine_bootstraps = all_bootstraps[0]\n",
    "bow_bootstraps = all_bootstraps[1]\n",
    "frozen_bootstraps = all_bootstraps[2]\n",
    "\n",
    "# convert all tensors to scalars\n",
    "fine_results = [(mean.item(), (low.item(), high.item())) for mean, (low, high) in fine_results]\n",
    "bow_results = [(mean.item(), (low.item(), high.item())) for mean, (low, high) in bow_results]\n",
    "frozen_results = [(mean.item(), (low.item(), high.item())) for mean, (low, high) in frozen_results]"
   ]
  },
  {
   "cell_type": "code",
   "execution_count": 8,
   "metadata": {},
   "outputs": [
    {
     "data": {
      "image/png": "[encoded data removed]",
      "text/plain": [
       "<Figure size 1100x300 with 1 Axes>"
      ]
     },
     "metadata": {},
     "output_type": "display_data"
    },
    {
     "data": {
      "image/png": "[encoded data removed]",
      "text/plain": [
       "<Figure size 1000x600 with 2 Axes>"
      ]
     },
     "metadata": {},
     "output_type": "display_data"
    }
   ],
   "source": [
    "import matplotlib.pyplot as plt\n",
    "import seaborn as sns\n",
    "\n",
    "def plot_grouped_bar_chart(list1, list2, list3):\n",
    "    plt.rcParams['font.family'] = 'Serif'\n",
    "\n",
    "    # Extract means and error bars\n",
    "    means1, lows1, highs1 = zip(*[(mean, low, high) for mean, (low, high) in list1])\n",
    "    means2, lows2, highs2 = zip(*[(mean, low, high) for mean, (low, high) in list2])\n",
    "    means3, lows3, highs3 = zip(*[(mean, low, high) for mean, (low, high) in list3])\n",
    "\n",
    "    # Calculate error bars\n",
    "    errors1 = [np.array(means1) - np.array(lows1), np.array(highs1) - np.array(means1)]\n",
    "    errors2 = [np.array(means2) - np.array(lows2), np.array(highs2) - np.array(means2)]\n",
    "    errors3 = [np.array(means3) - np.array(lows3), np.array(highs3) - np.array(means3)]\n",
    "\n",
    "    # X locations for the groups\n",
    "    ind = np.arange(len(means1))\n",
    "    width = 0.2\n",
    "\n",
    "    fig, ax = plt.subplots()\n",
    "    # make figure 8 in wide and 3 in tall\n",
    "    fig.set_size_inches(11, 3)\n",
    "\n",
    "    # Plot bars with error bars\n",
    "    bar1 = ax.bar(ind - width, means1, width, yerr=errors1, label=r'$\\mathtt{BagOfWords}$ + LR', capsize=5, color='#fed976')\n",
    "    bar2 = ax.bar(ind, means2, width, yerr=errors2, label=r'$\\mathtt{Pre-trained BERT}$ + LR', capsize=5, color='#feb24c')\n",
    "    bar3 = ax.bar(ind + width, means3, width, yerr=errors3, label=r'$\\mathtt{BERT Fine-tuned}$', capsize=5, color='#fd8d3c')\n",
    "\n",
    "    # Add labels and title\n",
    "    ax.set_ylabel('AUPRC')\n",
    "    ax.set_title('Per-domain AUPRC')\n",
    "    ax.set_xticks(ind)\n",
    "    ax.set_xticklabels(['Objects', 'Influences', 'Properties', 'Positioning', 'Movements', 'Interactions', 'Descriptive Relationships', 'Mechanistic Relationships'])\n",
    "    ax.legend(bbox_to_anchor=(.1, -.35), loc=\"lower left\",\n",
    "                bbox_transform=fig.transFigure, ncol=1)\n",
    "\n",
    "    # Rotate x tick labels\n",
    "    ax.tick_params(axis='x', rotation=20,)\n",
    "    # horizontal align tick labels right\n",
    "    plt.xticks(ha='right')\n",
    "    \n",
    "    plt.savefig('PerDomainBarChart.pdf', bbox_inches='tight')\n",
    "    plt.show()\n",
    "\n",
    "def plot_heatmap(list1, list2, list3):\n",
    "    # Extract means\n",
    "    means1 = [mean for mean, _ in list1]\n",
    "    means2 = [mean for mean, _ in list2]\n",
    "    means3 = [mean for mean, _ in list3]\n",
    "\n",
    "    # Combine means into a single array\n",
    "    data = np.array([means1, means2, means3])\n",
    "\n",
    "    # Create the heatmap\n",
    "    fig, ax = plt.subplots(figsize=(10, 6))\n",
    "    sns.heatmap(data, annot=True, fmt=\".2f\", cmap=\"RdYlGn\", cbar=True, xticklabels=['Objects', 'Influences', 'Properties', 'Positioning', 'Movements', 'Interactions', 'Descriptive Relationships', 'Mechanistic Relationships'], yticklabels=['Bag of Words', 'Pretrained BERT', 'Flexible BERT'], ax=ax)\n",
    "\n",
    "    # Add labels and title\n",
    "    ax.set_xlabel('Group')\n",
    "    ax.set_ylabel('Model')\n",
    "    ax.set_title('Heatmap of AUPRC per model')\n",
    "\n",
    "    plt.show()\n",
    "\n",
    "# Plot the chart\n",
    "plot_grouped_bar_chart(bow_results, frozen_results, fine_results)\n",
    "plot_heatmap(bow_results, frozen_results, fine_results)\n"
   ]
  },
  {
   "cell_type": "code",
   "execution_count": 9,
   "metadata": {},
   "outputs": [
    {
     "name": "stdout",
     "output_type": "stream",
     "text": [
      "Average (95CI), Finetune - Frozen 0.014 (-0.010, 0.038)\n",
      "Average (95CI), Finetune - Bow 0.043 (0.015, 0.072)\n",
      "Average (95CI), Frozen - Bow 0.029 (0.001, 0.058)\n"
     ]
    }
   ],
   "source": [
    "fine_minus_frozen = fine_bootstraps - frozen_bootstraps\n",
    "fine_minus_bow = fine_bootstraps - bow_bootstraps\n",
    "frozen_minus_bow = frozen_bootstraps - bow_bootstraps\n",
    "\n",
    "print(f'Average (95CI), Finetune - Frozen {fine_minus_frozen.mean().item():.3f} ({fine_minus_frozen.quantile(0.025).item():.3f}, {fine_minus_frozen.quantile(0.975).item():.3f})')\n",
    "print(f'Average (95CI), Finetune - Bow {fine_minus_bow.mean().item():.3f} ({fine_minus_bow.quantile(0.025).item():.3f}, {fine_minus_bow.quantile(0.975).item():.3f})')\n",
    "print(f'Average (95CI), Frozen - Bow {frozen_minus_bow.mean().item():.3f} ({frozen_minus_bow.quantile(0.025).item():.3f}, {frozen_minus_bow.quantile(0.975).item():.3f})')"
   ]
  },
  {
   "cell_type": "code",
   "execution_count": null,
   "metadata": {},
   "outputs": [],
   "source": []
  },
  {
   "cell_type": "code",
   "execution_count": null,
   "metadata": {},
   "outputs": [],
   "source": []
  },
  {
   "cell_type": "code",
   "execution_count": null,
   "metadata": {},
   "outputs": [],
   "source": []
  },
  {
   "cell_type": "code",
   "execution_count": 10,
   "metadata": {},
   "outputs": [
    {
     "name": "stdout",
     "output_type": "stream",
     "text": [
      "Domain Objects\n"
     ]
    },
    {
     "ename": "KeyError",
     "evalue": "'std_err'",
     "output_type": "error",
     "traceback": [
      "\u001b[0;31m---------------------------------------------------------------------------\u001b[0m",
      "\u001b[0;31mKeyError\u001b[0m                                  Traceback (most recent call last)",
      "Cell \u001b[0;32mIn[10], line 4\u001b[0m\n\u001b[1;32m      2\u001b[0m \u001b[38;5;28;01mfor\u001b[39;00m d \u001b[38;5;129;01min\u001b[39;00m \u001b[38;5;28mrange\u001b[39m(num_domains):\n\u001b[1;32m      3\u001b[0m     \u001b[38;5;28mprint\u001b[39m(\u001b[38;5;124mf\u001b[39m\u001b[38;5;124m\"\u001b[39m\u001b[38;5;124mDomain \u001b[39m\u001b[38;5;132;01m{\u001b[39;00mall_domain_properties[d][\u001b[38;5;124m'\u001b[39m\u001b[38;5;124mname\u001b[39m\u001b[38;5;124m'\u001b[39m]\u001b[38;5;132;01m}\u001b[39;00m\u001b[38;5;124m\"\u001b[39m)\n\u001b[0;32m----> 4\u001b[0m     \u001b[38;5;28mprint\u001b[39m(\u001b[38;5;124mf\u001b[39m\u001b[38;5;124m\"\u001b[39m\u001b[38;5;124mAUPRC: \u001b[39m\u001b[38;5;132;01m{\u001b[39;00mdomain_auprc[d][\u001b[38;5;124m'\u001b[39m\u001b[38;5;124mmean\u001b[39m\u001b[38;5;124m'\u001b[39m]\u001b[38;5;132;01m}\u001b[39;00m\u001b[38;5;124m +/- \u001b[39m\u001b[38;5;132;01m{\u001b[39;00m\u001b[43mdomain_auprc\u001b[49m\u001b[43m[\u001b[49m\u001b[43md\u001b[49m\u001b[43m]\u001b[49m\u001b[43m[\u001b[49m\u001b[38;5;124;43m'\u001b[39;49m\u001b[38;5;124;43mstd_err\u001b[39;49m\u001b[38;5;124;43m'\u001b[39;49m\u001b[43m]\u001b[49m\u001b[38;5;132;01m}\u001b[39;00m\u001b[38;5;124m\"\u001b[39m)\n\u001b[1;32m      5\u001b[0m     \u001b[38;5;28mprint\u001b[39m(\u001b[38;5;124mf\u001b[39m\u001b[38;5;124m\"\u001b[39m\u001b[38;5;124mProperties: \u001b[39m\u001b[38;5;132;01m{\u001b[39;00mall_domain_properties[d]\u001b[38;5;132;01m}\u001b[39;00m\u001b[38;5;124m\"\u001b[39m)\n\u001b[1;32m      6\u001b[0m     \u001b[38;5;28mprint\u001b[39m(\u001b[38;5;124m\"\u001b[39m\u001b[38;5;130;01m\\n\u001b[39;00m\u001b[38;5;124m\"\u001b[39m)\n",
      "\u001b[0;31mKeyError\u001b[0m: 'std_err'"
     ]
    }
   ],
   "source": [
    "all_domain_properties = problem_config['problems'][0]['domains']\n",
    "for d in range(num_domains):\n",
    "    print(f\"Domain {all_domain_properties[d]['name']}\")\n",
    "    print(f\"AUPRC: {domain_auprc[d]['mean']} +/- {domain_auprc[d]['std_err']}\")\n",
    "    print(f\"Properties: {all_domain_properties[d]}\")\n",
    "    print(\"\\n\")"
   ]
  },
  {
   "cell_type": "code",
   "execution_count": 24,
   "metadata": {},
   "outputs": [
    {
     "name": "stdout",
     "output_type": "stream",
     "text": [
      "micro_auprc: tensor([0.8292]) (tensor([0.7865]), tensor([0.8689]))\n"
     ]
    }
   ],
   "source": [
    "print(f'micro_auprc: {micro_auprc} ({micro_auprc_low}, {micro_auprc_high})')"
   ]
  },
  {
   "cell_type": "code",
   "execution_count": null,
   "metadata": {},
   "outputs": [
    {
     "name": "stdout",
     "output_type": "stream",
     "text": [
      "['DejaVu Sans', 'DejaVu Sans', 'DejaVu Sans', 'DejaVu Sans', 'DejaVu Sans', 'DejaVu Sans', 'DejaVu Sans', 'DejaVu Sans', 'DejaVu Sans', 'DejaVu Sans', 'DejaVu Sans', 'DejaVu Sans', 'DejaVu Sans', 'DejaVu Sans Display', 'DejaVu Sans Mono', 'DejaVu Sans Mono', 'DejaVu Sans Mono', 'DejaVu Sans Mono', 'DejaVu Sans Mono', 'DejaVu Sans Mono', 'DejaVu Sans Mono', 'DejaVu Sans Mono', 'DejaVu Serif', 'DejaVu Serif', 'DejaVu Serif', 'DejaVu Serif', 'DejaVu Serif Display', 'Goha-Tibeb Zemen', 'STIXGeneral', 'STIXGeneral', 'STIXGeneral', 'STIXGeneral', 'STIXNonUnicode', 'STIXNonUnicode', 'STIXNonUnicode', 'STIXNonUnicode', 'STIXSizeFiveSym', 'STIXSizeFourSym', 'STIXSizeFourSym', 'STIXSizeOneSym', 'STIXSizeOneSym', 'STIXSizeThreeSym', 'STIXSizeThreeSym', 'STIXSizeTwoSym', 'STIXSizeTwoSym', 'cmb10', 'cmex10', 'cmmi10', 'cmr10', 'cmss10', 'cmsy10', 'cmtt10']\n"
     ]
    }
   ],
   "source": [
    "import matplotlib.font_manager as fm\n",
    "print(sorted([f.name for f in fm.fontManager.ttflist]))"
   ]
  },
  {
   "cell_type": "code",
   "execution_count": 10,
   "metadata": {},
   "outputs": [
    {
     "data": {
      "text/plain": [
       "['BytesIO',\n",
       " 'FontEntry',\n",
       " 'FontManager',\n",
       " 'FontProperties',\n",
       " 'MSFolders',\n",
       " 'MSFontDirectories',\n",
       " 'MSUserFontDirectories',\n",
       " 'Number',\n",
       " 'OSXFontDirectories',\n",
       " 'Path',\n",
       " 'X11FontDirectories',\n",
       " '_HOME',\n",
       " '_JSONEncoder',\n",
       " '__builtins__',\n",
       " '__cached__',\n",
       " '__doc__',\n",
       " '__file__',\n",
       " '__loader__',\n",
       " '__name__',\n",
       " '__package__',\n",
       " '__spec__',\n",
       " '_afm',\n",
       " '_api',\n",
       " '_cached_realpath',\n",
       " '_cleanup_fontproperties_init',\n",
       " '_get_font',\n",
       " '_get_fontconfig_fonts',\n",
       " '_get_macos_fonts',\n",
       " '_get_win32_installed_fonts',\n",
       " '_json_decode',\n",
       " '_load_fontmanager',\n",
       " '_log',\n",
       " '_validators',\n",
       " '_weight_regexes',\n",
       " 'afmFontProperty',\n",
       " 'annotations',\n",
       " 'b64encode',\n",
       " 'cbook',\n",
       " 'copy',\n",
       " 'dataclasses',\n",
       " 'findSystemFonts',\n",
       " 'findfont',\n",
       " 'fontManager',\n",
       " 'font_family_aliases',\n",
       " 'font_scalings',\n",
       " 'ft2font',\n",
       " 'functools',\n",
       " 'generate_fontconfig_pattern',\n",
       " 'get_font',\n",
       " 'get_font_names',\n",
       " 'get_fontext_synonyms',\n",
       " 'is_opentype_cff_font',\n",
       " 'json',\n",
       " 'json_dump',\n",
       " 'json_load',\n",
       " 'list_fonts',\n",
       " 'logging',\n",
       " 'lru_cache',\n",
       " 'mpl',\n",
       " 'os',\n",
       " 'parse_fontconfig_pattern',\n",
       " 'plistlib',\n",
       " 're',\n",
       " 'stretch_dict',\n",
       " 'subprocess',\n",
       " 'sys',\n",
       " 'threading',\n",
       " 'ttfFontProperty',\n",
       " 'weight_dict',\n",
       " 'win32FontDirectory']"
      ]
     },
     "execution_count": 10,
     "metadata": {},
     "output_type": "execute_result"
    }
   ],
   "source": [
    "dir(fm)"
   ]
  },
  {
   "cell_type": "code",
   "execution_count": 11,
   "metadata": {},
   "outputs": [
    {
     "data": {
      "text/plain": [
       "['cmex10',\n",
       " 'cmtt10',\n",
       " 'DejaVu Sans Mono',\n",
       " 'STIXSizeFiveSym',\n",
       " 'DejaVu Serif Display',\n",
       " 'STIXNonUnicode',\n",
       " 'cmss10',\n",
       " 'STIXSizeThreeSym',\n",
       " 'STIXGeneral',\n",
       " 'STIXSizeFourSym',\n",
       " 'cmsy10',\n",
       " 'DejaVu Sans Display',\n",
       " 'STIXSizeOneSym',\n",
       " 'DejaVu Sans',\n",
       " 'Goha-Tibeb Zemen',\n",
       " 'cmmi10',\n",
       " 'cmb10',\n",
       " 'cmr10',\n",
       " 'STIXSizeTwoSym',\n",
       " 'DejaVu Serif']"
      ]
     },
     "execution_count": 11,
     "metadata": {},
     "output_type": "execute_result"
    }
   ],
   "source": [
    "fm.get_font_names()"
   ]
  },
  {
   "cell_type": "code",
   "execution_count": null,
   "metadata": {},
   "outputs": [
    {
     "ename": "AttributeError",
     "evalue": "module 'matplotlib.font_manager' has no attribute 'get_cachedir'",
     "output_type": "error",
     "traceback": [
      "\u001b[0;31m---------------------------------------------------------------------------\u001b[0m",
      "\u001b[0;31mAttributeError\u001b[0m                            Traceback (most recent call last)",
      "Cell \u001b[0;32mIn[15], line 2\u001b[0m\n\u001b[1;32m      1\u001b[0m \u001b[38;5;28;01mimport\u001b[39;00m\u001b[38;5;250m \u001b[39m\u001b[38;5;21;01mmatplotlib\u001b[39;00m\n\u001b[0;32m----> 2\u001b[0m \u001b[43mmatplotlib\u001b[49m\u001b[38;5;241;43m.\u001b[39;49m\u001b[43mfont_manager\u001b[49m\u001b[38;5;241;43m.\u001b[39;49m\u001b[43mget_cachedir\u001b[49m()\n",
      "\u001b[0;31mAttributeError\u001b[0m: module 'matplotlib.font_manager' has no attribute 'get_cachedir'"
     ]
    }
   ],
   "source": [
    "import matplotlib\n",
    "matplotlib.font_manager.get_cachedir()"
   ]
  },
  {
   "cell_type": "code",
   "execution_count": null,
   "metadata": {},
   "outputs": [
    {
     "ename": "AttributeError",
     "evalue": "module 'matplotlib.font_manager' has no attribute '_fmcache'",
     "output_type": "error",
     "traceback": [
      "\u001b[0;31m---------------------------------------------------------------------------\u001b[0m",
      "\u001b[0;31mAttributeError\u001b[0m                            Traceback (most recent call last)",
      "Cell \u001b[0;32mIn[17], line 1\u001b[0m\n\u001b[0;32m----> 1\u001b[0m \u001b[43mmatplotlib\u001b[49m\u001b[38;5;241;43m.\u001b[39;49m\u001b[43mfont_manager\u001b[49m\u001b[38;5;241;43m.\u001b[39;49m\u001b[43m_fmcache\u001b[49m\n",
      "\u001b[0;31mAttributeError\u001b[0m: module 'matplotlib.font_manager' has no attribute '_fmcache'"
     ]
    }
   ],
   "source": [
    "matplotlib.font_manager._fmcache"
   ]
  },
  {
   "cell_type": "code",
   "execution_count": 13,
   "metadata": {},
   "outputs": [
    {
     "ename": "NameError",
     "evalue": "name 'matplotlib' is not defined",
     "output_type": "error",
     "traceback": [
      "\u001b[0;31m---------------------------------------------------------------------------\u001b[0m",
      "\u001b[0;31mNameError\u001b[0m                                 Traceback (most recent call last)",
      "Cell \u001b[0;32mIn[13], line 1\u001b[0m\n\u001b[0;32m----> 1\u001b[0m \u001b[43mmatplotlib\u001b[49m\u001b[38;5;241m.\u001b[39mfont_manager\u001b[38;5;241m.\u001b[39mget_font_names()\n",
      "\u001b[0;31mNameError\u001b[0m: name 'matplotlib' is not defined"
     ]
    }
   ],
   "source": [
    "matplotlib.font_manager.get_font_names()"
   ]
  },
  {
   "cell_type": "code",
   "execution_count": 14,
   "metadata": {},
   "outputs": [
    {
     "data": {
      "text/plain": [
       "['cmex10',\n",
       " 'cmtt10',\n",
       " 'DejaVu Sans Mono',\n",
       " 'STIXSizeFiveSym',\n",
       " 'DejaVu Serif Display',\n",
       " 'STIXNonUnicode',\n",
       " 'cmss10',\n",
       " 'STIXSizeThreeSym',\n",
       " 'STIXGeneral',\n",
       " 'STIXSizeFourSym',\n",
       " 'cmsy10',\n",
       " 'DejaVu Sans Display',\n",
       " 'STIXSizeOneSym',\n",
       " 'DejaVu Sans',\n",
       " 'Goha-Tibeb Zemen',\n",
       " 'cmmi10',\n",
       " 'cmb10',\n",
       " 'cmr10',\n",
       " 'STIXSizeTwoSym',\n",
       " 'DejaVu Serif']"
      ]
     },
     "execution_count": 14,
     "metadata": {},
     "output_type": "execute_result"
    }
   ],
   "source": [
    "import matplotlib\n",
    "matplotlib.font_manager.get_font_names()"
   ]
  },
  {
   "cell_type": "code",
   "execution_count": 1,
   "metadata": {},
   "outputs": [],
   "source": [
    "import shutil\n",
    "import matplotlib\n",
    "\n",
    "shutil.rmtree(matplotlib.get_cachedir())"
   ]
  },
  {
   "cell_type": "code",
   "execution_count": 3,
   "metadata": {},
   "outputs": [
    {
     "data": {
      "text/html": [
       "<div style='column-count: 2;'><p>DejaVu Sans: <span style='font-family:DejaVu Sans; font-size: 24px;'>DejaVu Sans</p>\n",
       "<p>DejaVu Sans Display: <span style='font-family:DejaVu Sans Display; font-size: 24px;'>DejaVu Sans Display</p>\n",
       "<p>DejaVu Sans Mono: <span style='font-family:DejaVu Sans Mono; font-size: 24px;'>DejaVu Sans Mono</p>\n",
       "<p>DejaVu Serif: <span style='font-family:DejaVu Serif; font-size: 24px;'>DejaVu Serif</p>\n",
       "<p>DejaVu Serif Display: <span style='font-family:DejaVu Serif Display; font-size: 24px;'>DejaVu Serif Display</p>\n",
       "<p>Goha-Tibeb Zemen: <span style='font-family:Goha-Tibeb Zemen; font-size: 24px;'>Goha-Tibeb Zemen</p>\n",
       "<p>STIXGeneral: <span style='font-family:STIXGeneral; font-size: 24px;'>STIXGeneral</p>\n",
       "<p>STIXNonUnicode: <span style='font-family:STIXNonUnicode; font-size: 24px;'>STIXNonUnicode</p>\n",
       "<p>STIXSizeFiveSym: <span style='font-family:STIXSizeFiveSym; font-size: 24px;'>STIXSizeFiveSym</p>\n",
       "<p>STIXSizeFourSym: <span style='font-family:STIXSizeFourSym; font-size: 24px;'>STIXSizeFourSym</p>\n",
       "<p>STIXSizeOneSym: <span style='font-family:STIXSizeOneSym; font-size: 24px;'>STIXSizeOneSym</p>\n",
       "<p>STIXSizeThreeSym: <span style='font-family:STIXSizeThreeSym; font-size: 24px;'>STIXSizeThreeSym</p>\n",
       "<p>STIXSizeTwoSym: <span style='font-family:STIXSizeTwoSym; font-size: 24px;'>STIXSizeTwoSym</p>\n",
       "<p>cmb10: <span style='font-family:cmb10; font-size: 24px;'>cmb10</p>\n",
       "<p>cmex10: <span style='font-family:cmex10; font-size: 24px;'>cmex10</p>\n",
       "<p>cmmi10: <span style='font-family:cmmi10; font-size: 24px;'>cmmi10</p>\n",
       "<p>cmr10: <span style='font-family:cmr10; font-size: 24px;'>cmr10</p>\n",
       "<p>cmss10: <span style='font-family:cmss10; font-size: 24px;'>cmss10</p>\n",
       "<p>cmsy10: <span style='font-family:cmsy10; font-size: 24px;'>cmsy10</p>\n",
       "<p>cmtt10: <span style='font-family:cmtt10; font-size: 24px;'>cmtt10</p></div>"
      ],
      "text/plain": [
       "<IPython.core.display.HTML object>"
      ]
     },
     "execution_count": 3,
     "metadata": {},
     "output_type": "execute_result"
    }
   ],
   "source": [
    "import matplotlib.font_manager\n",
    "from IPython.core.display import HTML\n",
    "\n",
    "def make_html(fontname):\n",
    "    return \"<p>{font}: <span style='font-family:{font}; font-size: 24px;'>{font}</p>\".format(font=fontname)\n",
    "\n",
    "code = \"\\n\".join([make_html(font) for font in sorted(set([f.name for f in matplotlib.font_manager.fontManager.ttflist]))])\n",
    "\n",
    "HTML(\"<div style='column-count: 2;'>{}</div>\".format(code))"
   ]
  },
  {
   "cell_type": "code",
   "execution_count": null,
   "metadata": {},
   "outputs": [],
   "source": []
  }
 ],
 "metadata": {
  "kernelspec": {
   "display_name": "learningarmy",
   "language": "python",
   "name": "python3"
  },
  "language_info": {
   "codemirror_mode": {
    "name": "ipython",
    "version": 3
   },
   "file_extension": ".py",
   "mimetype": "text/x-python",
   "name": "python",
   "nbconvert_exporter": "python",
   "pygments_lexer": "ipython3",
   "version": "3.11.11"
  }
 },
 "nbformat": 4,
 "nbformat_minor": 2
}
